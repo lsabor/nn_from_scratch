{
 "cells": [
  {
   "cell_type": "code",
   "execution_count": 1,
   "metadata": {},
   "outputs": [],
   "source": [
    "\"\"\"import our data\"\"\"\n",
    "\n",
    "import numpy as np\n",
    "from data import get_data_from_csv, get_labels_and_data_1st_column\n",
    "import matplotlib.pyplot as plt\n",
    "import math\n",
    "\n",
    "# DATA FROM HERE: https://pjreddie.com/projects/mnist-in-csv/\n",
    "file_test = '../data/MNIST/mnist_test.csv'\n",
    "file_train = '../data/MNIST/mnist_train.csv'\n",
    "\n",
    "data_test, m_test, n_test = get_data_from_csv(file_test)\n",
    "Y_test, X_test = get_labels_and_data_1st_column(data_test)\n",
    "\n",
    "data_train, m_train, n_train = get_data_from_csv(file_train)\n",
    "Y_train, X_train = get_labels_and_data_1st_column(data_train)\n",
    "\n",
    "assert n_test == n_train\n",
    "n = n_test\n",
    "m = m_test + m_train\n",
    "\n"
   ]
  },
  {
   "cell_type": "code",
   "execution_count": 2,
   "metadata": {},
   "outputs": [],
   "source": [
    "\"\"\"making sure that our Y_test/Y_train are actually labels\"\"\"\n",
    "\n",
    "assert Y_test.max() == 9\n",
    "assert Y_train.max() == 9\n",
    "assert X_test[0].max() != 9\n",
    "assert X_train[0].max() != 9\n",
    "\n",
    "# display(Y_test[:100])\n",
    "# display(Y_train[:100])\n",
    "# display(X_test[500][:100])\n",
    "# display(X_train[500][:100])"
   ]
  },
  {
   "cell_type": "code",
   "execution_count": 3,
   "metadata": {},
   "outputs": [],
   "source": [
    "# normalize pixel data to values between 0 and 1. Max = 255, min = 0, thus divide by 255\n",
    "X_train = X_train / 255.\n",
    "X_test = X_test / 255."
   ]
  },
  {
   "cell_type": "code",
   "execution_count": 4,
   "metadata": {},
   "outputs": [
    {
     "name": "stdout",
     "output_type": "stream",
     "text": [
      "\n",
      "W2 = array([[-1.35648548,  0.81547855,  0.84432523, -0.92823468],\n",
      "       [-0.13761339, -0.52316636,  0.54428946,  0.15649521],\n",
      "       [-0.32029098, -2.09578774, -0.81971668,  0.45016155],\n",
      "       [ 0.43235821,  0.53900085,  0.40306605,  0.19310612]])\n",
      "b2 = array([ 0.9313936 , -1.52341547, -0.78988926,  0.13071566])\n",
      "Loss = 0.7389236735946176\n",
      "\n",
      "W2 = array([[-0.28568946,  0.33579638, -4.08172135, -6.01746156],\n",
      "       [ 0.93318263, -1.00284853, -4.38175711, -4.93273167],\n",
      "       [ 0.75050504, -2.57546991, -5.74576326, -4.63906533],\n",
      "       [ 1.50315424,  0.05931868, -4.52298052, -4.89612076]])\n",
      "b2 = array([-1.21019845, -1.76325656,  4.13615731, -2.41389778])\n",
      "Loss = 0.0033696147779392906\n",
      "GOING WITH softmax_deriv is just 1\n",
      "\n",
      "W1 = array([[-1.35648548,  0.81547855,  0.84432523, -0.92823468],\n",
      "       [-0.13761339, -0.52316636,  0.54428946,  0.15649521],\n",
      "       [-0.32029098, -2.09578774, -0.81971668,  0.45016155],\n",
      "       [ 0.43235821,  0.53900085,  0.40306605,  0.19310612]])\n",
      "b1 = array([ 0.9313936 , -1.52341547, -0.78988926,  0.13071566])\n",
      "Loss = 0.7389236735946176\n",
      "\n",
      "W1 = array([[-0.04426094,  0.06030394, -5.20306874, -7.01894982],\n",
      "       [ 1.17461115, -1.27834097, -5.5031045 , -5.93421994],\n",
      "       [ 0.99193356, -2.85096235, -6.86711064, -5.64055359],\n",
      "       [ 1.74458276, -0.21617376, -5.64432791, -5.89760902]])\n",
      "b1 = array([-1.69305549, -1.90100278,  5.2575047 , -2.91464191])\n",
      "Loss = 0.000161325285138602\n"
     ]
    }
   ],
   "source": [
    "def loss(Y, Y_hat):\n",
    "    return 1/2 * np.sum((Y - Y_hat)**2)\n",
    "\n",
    "def softmax(s):\n",
    "    return np.exp(s) / sum(np.exp(s))\n",
    "\n",
    "def softmax_deriv(s):\n",
    "    sm = softmax(s)\n",
    "    return sm.dot(1-sm)\n",
    "\n",
    "LR = 1\n",
    "Y = np.array([0,0,1,0])\n",
    "A1 = np.array([-.5, 2, -1, 2])\n",
    "W1 = W2 = np.random.randn(4, 4)\n",
    "b1 = b2 = np.random.randn(4)\n",
    "epochs = 100\n",
    "\n",
    "\n",
    "for epoch in range(epochs):\n",
    "\n",
    "    Z2 = np.dot(W2,A1) + b2\n",
    "\n",
    "    Y_hat = softmax(Z2)\n",
    "    Loss  =  loss(Y,Y_hat)\n",
    "    if not epoch%(epochs//2):\n",
    "        print(f\"\\n{W2 = }\\n{b2 = }\\n{Loss = }\")\n",
    "\n",
    "    DY_hat = -Y + Y_hat\n",
    "    dY_hatdZ2  =  softmax_deriv(Z2)\n",
    "    DZ2  =  DY_hat * dY_hatdZ2\n",
    "    dZ2dW2 = A1\n",
    "    dZ2db2 = 1\n",
    "    DW2 = DZ2 * A1\n",
    "    Db2 = DZ2\n",
    "\n",
    "    W2 = W2 - LR*DW2\n",
    "    b2 = b2 - LR*Db2\n",
    "\n",
    "print(\"GOING WITH softmax_deriv is just 1\")\n",
    "for epoch in range(epochs):\n",
    "\n",
    "    Z2 = np.dot(W1,A1) + b1\n",
    "\n",
    "    Y_hat = softmax(Z2)\n",
    "    Loss  =  loss(Y,Y_hat)\n",
    "    if not epoch%(epochs//2):\n",
    "        print(f\"\\n{W1 = }\\n{b1 = }\\n{Loss = }\")\n",
    "\n",
    "    DY_hat = -Y + Y_hat\n",
    "\n",
    "    dY_hatdZ2  =  1\n",
    "    DZ2  =  DY_hat * dY_hatdZ2\n",
    "    dZ2dW1 = A1\n",
    "    dZ2db1 = 1\n",
    "    DW1 = DZ2 * A1\n",
    "    Db1 = DZ2\n",
    "\n",
    "    W1 = W1 - LR*DW1\n",
    "    b1 = b1 - LR*Db1"
   ]
  },
  {
   "cell_type": "code",
   "execution_count": 5,
   "metadata": {},
   "outputs": [
    {
     "data": {
      "text/plain": [
       "'\\nFORWARD PASS\\nGive X\\nA0 = X :: [784,m]\\nZ1[10,m] = W1[10,784] * X[784,m] + b1[10]\\nA1[10,m] = RelU(Z1[10,m])\\nZ2[10,m] = W2[10,10] * A1[10,m] + b2[10]\\nY_hat[10,m] = softmax(A2[10,m])\\nReceive Y_hat\\n'"
      ]
     },
     "execution_count": 5,
     "metadata": {},
     "output_type": "execute_result"
    }
   ],
   "source": [
    "\"\"\"\n",
    "FORWARD PASS\n",
    "Give X\n",
    "A0 = X :: [784,m]\n",
    "Z1[10,m] = W1[10,784] * X[784,m] + b1[10]\n",
    "A1[10,m] = RelU(Z1[10,m])\n",
    "Z2[10,m] = W2[10,10] * A1[10,m] + b2[10]\n",
    "Y_hat[10,m] = softmax(A2[10,m])\n",
    "Receive Y_hat\n",
    "\"\"\"\n",
    "\n",
    "\n",
    "\n",
    "\n",
    "\n"
   ]
  },
  {
   "cell_type": "code",
   "execution_count": 14,
   "metadata": {},
   "outputs": [],
   "source": [
    "class model():\n",
    "    def __init__(self, X_dataset,Y_dataset, learning_rate = 0.1):\n",
    "        self.X = X_dataset\n",
    "        self.Y = Y_dataset\n",
    "        self.W1 = np.random.rand(10, 784) -.5\n",
    "        self.b1 = np.random.rand(10,1) -.5\n",
    "        self.W2 = np.random.rand(10,10) -.5\n",
    "        self.b2 = np.random.rand(10,1) -.5\n",
    "        self.learning_rate = learning_rate\n",
    "    \n",
    "    def update(self,X_dataset, Y_dataset):\n",
    "        self.X = X_dataset\n",
    "        self.Y = Y_dataset\n",
    "\n",
    "    def get_predictions(self,Y_hat):\n",
    "        predictions = np.argmax(Y_hat,0)\n",
    "        return predictions\n",
    "\n",
    "    \n",
    "    def accuracy(self, Y_hat, Y):\n",
    "        \n",
    "        predictions = self.get_predictions(Y_hat)\n",
    "        return np.sum(predictions == Y) / Y.size\n",
    "    \n",
    "    def gradient_descent(self, iterations, learning_rate=0.01):\n",
    "\n",
    "        m = self.X.shape[1]\n",
    "        one_hot_Y = self.one_hot_encode(self.Y)\n",
    "        for iteration in range(iterations):\n",
    "            Z1, A1, Z2, Y_hat = self.forward_pass(X=self.X)\n",
    "            DW1, Db1, DW2, Db2 = self.backwards_propagation(Y_hat,one_hot_Y, self.X,Z2, A1, Z1, m)\n",
    "            self.update_params( DW1, Db1, DW2, Db2, self.learning_rate)\n",
    "\n",
    "            accuracy = self.accuracy(Y_hat, self.Y)\n",
    "            print(accuracy)\n",
    "    \n",
    "    def ReLU(self, n: float) -> float:\n",
    "        \"\"\"rectified linear unit activation function\"\"\"\n",
    "        return np.maximum(n, 0)\n",
    "\n",
    "    def ReLU_deriv(self, n: float) -> int:\n",
    "        \"\"\"\"derivative of ReLU\"\"\"\n",
    "        return n > 0\n",
    "\n",
    "    def softmax(self, array: np.array) -> np.array:\n",
    "        # collapses 1 dimension of array\n",
    "        return np.exp(array) / np.sum(np.exp(array), axis=0)\n",
    "\n",
    "    def forward_pass(self, X):\n",
    "        Z1 = np.dot(self.W1, X) + self.b1\n",
    "        A1 = self.ReLU(Z1)\n",
    "        Z2 = self.W2.dot(A1) + self.b2\n",
    "        Y_hat = softmax(Z2) \n",
    "        return Z1, A1, Z2, Y_hat\n",
    "\n",
    "    def one_hot_encode(self, Y: np.array, classes = 10):\n",
    "        # first instantiate 0's which should be an array of len(Y) max(Y) \n",
    "        one_hot = np.zeros((Y.size,classes))\n",
    "        one_hot[np.arange(Y.size), Y] = 1\n",
    "        return one_hot.T\n",
    "\n",
    "    def cross_entropy_loss(self, predictions, y_actual):\n",
    "        num_samples=len(y_actual)\n",
    "        class_targets =np.array(y_actual)\n",
    "        y_actual = y_actual\n",
    "        y_pred_clipped = np.clip(predictions, 1e-7, 1-1e-7)\n",
    "        print(f\"{y_actual.shape=}\")\n",
    "        if len(y_actual.shape) ==1:\n",
    "            targeted_predictions = y_pred_clipped[[range(num_samples), class_targets]]\n",
    "        elif len(y_actual.shape) == 2:\n",
    "            targeted_predictions = np.sum(y_pred_clipped * y_actual, axis=1)\n",
    "        negative_log_likelihoods = -np.log(targeted_predictions)\n",
    "        return np.mean(negative_log_likelihoods)\n",
    "\n",
    "\n",
    "    def backwards_propagation(self, Y_hat, Y, X, Z2, A1, Z1, m):\n",
    "        \"\"\"\n",
    "\n",
    "\n",
    "        \n",
    "        n = number of possible encodings # in general, n can change through a network,\n",
    "            but we're assuming that n is used for encodings and also layer size\n",
    "        m = number of inputs, batch size\n",
    "\n",
    "        x = number of datapoints per input\n",
    "        X[x,m] = Input - m examples of x data points\n",
    "        Y[n,m] = one-hot encoding of results: e.g. [[0,0,0,1,0,0], ... ] (with m encodings)\n",
    "        W1[n,x] = weights applied to X\n",
    "        b1[n,1] = biases applied to values going into Z1_n\n",
    "        Z1[n,m] = pre-activation function values = W1[n,x] dot X[x,m] + b1[n,1]\n",
    "        A1[n,m] = ReLU(Z1[n,m])\n",
    "        W2[n,n] = weights applied to A1\n",
    "        b2[n,1] = biases applied to values going into Z2_n\n",
    "        Z2[n,m] = pre-softmax function values = W2[n,n] dot A1[n,m] + b2[n,1]\n",
    "        Y_hat[n,m] = the estimate of Y = softmax(Z2[n,m])\n",
    "        \n",
    "        definition: Loss = L[m] = [L_0, L_1, ..., L_m] # possiblly L[1,m]\n",
    "            = 1/2*np.sum((Y - Y_hat)**2)\n",
    "            in other words for each row m:\n",
    "                L_m = 1/2*sum[j from 0 to n] of (Y[j,m] - Y_hat[j,m])**2 \n",
    "                = sum[j from 0 to n] of 1/2*Y[j,m]**2 - Y[j,m]*Y_hat[j,m] + 1/2*Y_hat[j,m]**2\n",
    "    (1)     L = np.sum(1/2*Y**2 - Y*Y_hat + 1/2*Y_hat**2)\n",
    "        We set this loss specifically so that the derivative works out nicely\n",
    "\n",
    "        To minimize L, we want to see how L will change with respect to the variable\n",
    "        that we can control, namely Y_hat.\n",
    "        We can calculate how changing one of the values in Y_hat effects Y.\n",
    "        DY_hat[j,m] = dL/dY_hat[j,m] = -Y[j,m] + Y_hat[j,m] \n",
    "        This generalizes because dL/dY_hat should be an array of shape Y.shape, with each\n",
    "        value j corresponding to how much Y_hat[j] effects L given some specific input (m).\n",
    "        NOTE: dL/dY_hat will show how to change Y_hat to *increase* L by 1 unit \n",
    "        (this will be true for all derivatives we calculate).\n",
    "        dL/dY_hat = -Y + Y_hat (calculated derivative from (1))\n",
    "        call this DY_hat for simplicity\n",
    "\n",
    "        REMINDER: Y_hat[n,m] = softmax(Z2[n,m])\n",
    "        NOTE: dSoftmax(X)/dX = softmax(X) dot (1-softmax(X)), but we will use 1 instead FOR SOME REASON???\n",
    "        dY_hat/dZ2 = 1                    ####### not: softmax(Z2)*(1-softmax(Z2))\n",
    "        thus, by chain rule:\n",
    "        DZ2[n,m] = dL/dZ2 = dL/dY_hat * dY_hat/dZ2 = DY_hat * 1\n",
    "\n",
    "        REMINDER: Z2[n,m] = W2[n,n] dot A1[n,m] + b2[n,1]\n",
    "        dZ2/dW2[m,n] = A1[n,m].T[m,n] / m\n",
    "        dZ2/db2[m,1] = np.sum(Z2[n,m])[m] / m\n",
    "        Now, were ready to calculate DW2, Db2\n",
    "        DW2[n,n] = dL/dW2 = dL/dZ2 * dZ2/dW2 = DZ2[n,m] dot A1.T[m,n] / m\n",
    "        Db2[n,1] = dL/db2 = dL/dZ2 * dZ2/db2 = DZ2[n,m] dot np.sum(Z2[n,m])[m,1] / m \n",
    "\n",
    "        \n",
    "        dZ2/dA1 = W2[n,n]\n",
    "        DA1[n,n] = dL/dA1 = dL/dZ2 * dZ2/dA1 = DZ2[n,m] * W2[n,n]\n",
    "        DZ1[x,x] = dL/dA1 * dA1/dZ1 = DA1[n,n] * ReLU_deriv(Z1)\n",
    "\n",
    "        REMINDER: Z1[n,m] = W1[n,x] dot X[x,m] + b1[n,1]\n",
    "        dZ1/dW1[m,n] = X[n,m].T[m,n] / m\n",
    "        dZ1/db1[m,1] = np.sum(Z1[n,m])[m] / m\n",
    "        Now, were ready to calculate DW1, Db1\n",
    "        DW1[x,n] = dL/dW1 = dL/dZ1 * dZ1/dW1 = DZ1[x,x] dot X.T[x,n] / m\n",
    "        Db1[n,1] = dL/db1 = dL/dZ2 * dZ1/db1 = DZ2[n,m] dot np.sum(Z2[n,m])[m,1] / m \n",
    "        \n",
    "        \"\"\"\n",
    "\n",
    "#         DZ2 = -Y + Y_hat\n",
    "        DZ2 = self.cross_entropy_loss(Y_hat, Y)\n",
    "        DW2 = np.dot(DZ2,A1.T) / m\n",
    "        \n",
    "        Db2 = np.sum(DZ2) / m\n",
    "\n",
    "        DZ1 = np.dot(self.W2.T, DZ2) * self.ReLU_deriv(Z1)\n",
    "\n",
    "        DW1 = np.dot(DZ1, self.X.T) / m\n",
    "        Db1 =  np.sum(DZ1) / m\n",
    "        return DW1, Db1, DW2, Db2\n",
    "\n",
    "\n",
    "    def update_params(self, dW1, db1, dW2, db2, learning_rate):\n",
    "        self.W1 = self.W1 - learning_rate*dW1\n",
    "        self.b1 = self.b1 - learning_rate*db1\n",
    "        self.W2 = self.W2 - learning_rate*dW2\n",
    "        self.b2 = self.b2 - learning_rate*db2\n",
    "\n",
    "\n",
    "    def make_prediction(self,X):\n",
    "        print(X.shape)\n",
    "        _,_,_, Y_hat = self.forward_pass(X)\n",
    "        predictions = self.get_predictions(Y_hat)\n",
    "        return predictions\n",
    "\n",
    "    def test_predict(self,sample_index):\n",
    "        current_image = self.X[:, sample_index, None]\n",
    "        sample = self.Y[sample_index]\n",
    "        current_image = current_image.reshape((28,28))*255\n",
    "\n",
    "        plt.gray()\n",
    "        plt.imshow(current_image, interpolation=\"nearest\")\n",
    "        plt.show()\n",
    "        sample = self.Y[sample_index]\n",
    "        X_sample = self.X[sample_index]\n",
    "        prediction = self.make_prediction(self.X[:,sample_index, None])\n",
    "        print(f\"{sample=} , prediction = {prediction}. Correct = {sample == prediction}\")\n",
    "\n",
    "    def export_weights(self):\n",
    "        return self.W1, self.b1, self.W2, self.b2\n",
    "    \n",
    "    def import_weights(self, W1, b1, W2, b2):\n",
    "        self.W1 = W1\n",
    "        self.b1 = b1\n",
    "        self.W2 = W2\n",
    "        self.b2 = b2\n",
    "\n",
    "\n",
    "            \n"
   ]
  },
  {
   "cell_type": "code",
   "execution_count": 15,
   "metadata": {},
   "outputs": [
    {
     "name": "stdout",
     "output_type": "stream",
     "text": [
      "y_actual.shape=(10, 59999)\n"
     ]
    },
    {
     "ename": "ValueError",
     "evalue": "operands could not be broadcast together with shapes (10,10) (10,59999) ",
     "output_type": "error",
     "traceback": [
      "\u001b[0;31m---------------------------------------------------------------------------\u001b[0m",
      "\u001b[0;31mValueError\u001b[0m                                Traceback (most recent call last)",
      "Input \u001b[0;32mIn [15]\u001b[0m, in \u001b[0;36m<cell line: 21>\u001b[0;34m()\u001b[0m\n\u001b[1;32m      9\u001b[0m m \u001b[38;5;241m=\u001b[39m mod\u001b[38;5;241m.\u001b[39mX\u001b[38;5;241m.\u001b[39mshape[\u001b[38;5;241m1\u001b[39m]\n\u001b[1;32m     11\u001b[0m \u001b[38;5;66;03m# Z1, A1, Z2, Y_hat = mod.forward_pass(mod.X)\u001b[39;00m\n\u001b[1;32m     12\u001b[0m \u001b[38;5;66;03m# # mod.gradient_descent(100)\u001b[39;00m\n\u001b[1;32m     13\u001b[0m \u001b[38;5;66;03m# print(f\"{Z1} {A1} {Z2} {Y_hat} {sum(Y_hat)}\")\u001b[39;00m\n\u001b[0;32m   (...)\u001b[0m\n\u001b[1;32m     19\u001b[0m \n\u001b[1;32m     20\u001b[0m \u001b[38;5;66;03m# mod.import_weights(saved_W1, saved_b1 , saved_W2 ,saved_b2)\u001b[39;00m\n\u001b[0;32m---> 21\u001b[0m \u001b[43mmod\u001b[49m\u001b[38;5;241;43m.\u001b[39;49m\u001b[43mgradient_descent\u001b[49m\u001b[43m(\u001b[49m\u001b[38;5;241;43m300\u001b[39;49m\u001b[43m)\u001b[49m\n\u001b[1;32m     22\u001b[0m saved_W1, saved_b1 , saved_W2 ,saved_b2  \u001b[38;5;241m=\u001b[39m mod\u001b[38;5;241m.\u001b[39mexport_weights()\n",
      "Input \u001b[0;32mIn [14]\u001b[0m, in \u001b[0;36mmodel.gradient_descent\u001b[0;34m(self, iterations, learning_rate)\u001b[0m\n\u001b[1;32m     29\u001b[0m \u001b[38;5;28;01mfor\u001b[39;00m iteration \u001b[38;5;129;01min\u001b[39;00m \u001b[38;5;28mrange\u001b[39m(iterations):\n\u001b[1;32m     30\u001b[0m     Z1, A1, Z2, Y_hat \u001b[38;5;241m=\u001b[39m \u001b[38;5;28mself\u001b[39m\u001b[38;5;241m.\u001b[39mforward_pass(X\u001b[38;5;241m=\u001b[39m\u001b[38;5;28mself\u001b[39m\u001b[38;5;241m.\u001b[39mX)\n\u001b[0;32m---> 31\u001b[0m     DW1, Db1, DW2, Db2 \u001b[38;5;241m=\u001b[39m \u001b[38;5;28;43mself\u001b[39;49m\u001b[38;5;241;43m.\u001b[39;49m\u001b[43mbackwards_propagation\u001b[49m\u001b[43m(\u001b[49m\u001b[43mY_hat\u001b[49m\u001b[43m,\u001b[49m\u001b[43mone_hot_Y\u001b[49m\u001b[43m,\u001b[49m\u001b[43m \u001b[49m\u001b[38;5;28;43mself\u001b[39;49m\u001b[38;5;241;43m.\u001b[39;49m\u001b[43mX\u001b[49m\u001b[43m,\u001b[49m\u001b[43mZ2\u001b[49m\u001b[43m,\u001b[49m\u001b[43m \u001b[49m\u001b[43mA1\u001b[49m\u001b[43m,\u001b[49m\u001b[43m \u001b[49m\u001b[43mZ1\u001b[49m\u001b[43m,\u001b[49m\u001b[43m \u001b[49m\u001b[43mm\u001b[49m\u001b[43m)\u001b[49m\n\u001b[1;32m     32\u001b[0m     \u001b[38;5;28mself\u001b[39m\u001b[38;5;241m.\u001b[39mupdate_params( DW1, Db1, DW2, Db2, \u001b[38;5;28mself\u001b[39m\u001b[38;5;241m.\u001b[39mlearning_rate)\n\u001b[1;32m     34\u001b[0m     accuracy \u001b[38;5;241m=\u001b[39m \u001b[38;5;28mself\u001b[39m\u001b[38;5;241m.\u001b[39maccuracy(Y_hat, \u001b[38;5;28mself\u001b[39m\u001b[38;5;241m.\u001b[39mY)\n",
      "Input \u001b[0;32mIn [14]\u001b[0m, in \u001b[0;36mmodel.backwards_propagation\u001b[0;34m(self, Y_hat, Y, X, Z2, A1, Z1, m)\u001b[0m\n\u001b[1;32m    145\u001b[0m DW2 \u001b[38;5;241m=\u001b[39m np\u001b[38;5;241m.\u001b[39mdot(DZ2,A1\u001b[38;5;241m.\u001b[39mT) \u001b[38;5;241m/\u001b[39m m\n\u001b[1;32m    147\u001b[0m Db2 \u001b[38;5;241m=\u001b[39m np\u001b[38;5;241m.\u001b[39msum(DZ2) \u001b[38;5;241m/\u001b[39m m\n\u001b[0;32m--> 149\u001b[0m DZ1 \u001b[38;5;241m=\u001b[39m \u001b[43mnp\u001b[49m\u001b[38;5;241;43m.\u001b[39;49m\u001b[43mdot\u001b[49m\u001b[43m(\u001b[49m\u001b[38;5;28;43mself\u001b[39;49m\u001b[38;5;241;43m.\u001b[39;49m\u001b[43mW2\u001b[49m\u001b[38;5;241;43m.\u001b[39;49m\u001b[43mT\u001b[49m\u001b[43m,\u001b[49m\u001b[43m \u001b[49m\u001b[43mDZ2\u001b[49m\u001b[43m)\u001b[49m\u001b[43m \u001b[49m\u001b[38;5;241;43m*\u001b[39;49m\u001b[43m \u001b[49m\u001b[38;5;28;43mself\u001b[39;49m\u001b[38;5;241;43m.\u001b[39;49m\u001b[43mReLU_deriv\u001b[49m\u001b[43m(\u001b[49m\u001b[43mZ1\u001b[49m\u001b[43m)\u001b[49m\n\u001b[1;32m    151\u001b[0m DW1 \u001b[38;5;241m=\u001b[39m np\u001b[38;5;241m.\u001b[39mdot(DZ1, \u001b[38;5;28mself\u001b[39m\u001b[38;5;241m.\u001b[39mX\u001b[38;5;241m.\u001b[39mT) \u001b[38;5;241m/\u001b[39m m\n\u001b[1;32m    152\u001b[0m Db1 \u001b[38;5;241m=\u001b[39m  np\u001b[38;5;241m.\u001b[39msum(DZ1) \u001b[38;5;241m/\u001b[39m m\n",
      "\u001b[0;31mValueError\u001b[0m: operands could not be broadcast together with shapes (10,10) (10,59999) "
     ]
    }
   ],
   "source": [
    "from configparser import Interpolation\n",
    "\n",
    "# creating a object\n",
    "# im = Image.open()\n",
    "  \n",
    "# im.show()\n",
    "mod = model(X_train, Y_train, learning_rate=0.05)\n",
    "mod.learning_rate = 0.04\n",
    "m = mod.X.shape[1]\n",
    "\n",
    "# Z1, A1, Z2, Y_hat = mod.forward_pass(mod.X)\n",
    "# # mod.gradient_descent(100)\n",
    "# print(f\"{Z1} {A1} {Z2} {Y_hat} {sum(Y_hat)}\")\n",
    "# one_hot_Y = mod.one_hot_encode(mod.Y)\n",
    "\n",
    "# DW1, Db1, DW2, Db2 = mod.backwards_propagation(Y_hat, one_hot_Y,mod.X, Z2, A1, Z1,m)\n",
    "# print(f\"{DW1=}, {Db1=}, {DW2=}, {Db2=}\")\n",
    "# mod.update_params(DW1, Db1, DW2, Db2, 0.01)\n",
    "\n",
    "# mod.import_weights(saved_W1, saved_b1 , saved_W2 ,saved_b2)\n",
    "mod.gradient_descent(300)\n",
    "saved_W1, saved_b1 , saved_W2 ,saved_b2  = mod.export_weights()\n",
    "\n"
   ]
  },
  {
   "cell_type": "code",
   "execution_count": 13,
   "metadata": {},
   "outputs": [],
   "source": [
    "saved_W1, saved_b1 , saved_W2 ,saved_b2  = mod.export_weights()"
   ]
  },
  {
   "cell_type": "code",
   "execution_count": 16,
   "metadata": {},
   "outputs": [
    {
     "name": "stdout",
     "output_type": "stream",
     "text": [
      "(784, 1)\n"
     ]
    }
   ],
   "source": [
    "predictions = mod.make_prediction(X_train[:,12, None])\n"
   ]
  },
  {
   "cell_type": "code",
   "execution_count": null,
   "metadata": {},
   "outputs": [],
   "source": [
    "X_train[:,12, None].shape"
   ]
  },
  {
   "cell_type": "code",
   "execution_count": null,
   "metadata": {},
   "outputs": [],
   "source": [
    "predictions.shape"
   ]
  },
  {
   "cell_type": "code",
   "execution_count": 17,
   "metadata": {},
   "outputs": [
    {
     "data": {
      "image/png": "[encoded data removed]",
      "text/plain": [
       "<Figure size 432x288 with 1 Axes>"
      ]
     },
     "metadata": {
      "needs_background": "light"
     },
     "output_type": "display_data"
    },
    {
     "ename": "NameError",
     "evalue": "name 'X' is not defined",
     "output_type": "error",
     "traceback": [
      "\u001b[0;31m---------------------------------------------------------------------------\u001b[0m",
      "\u001b[0;31mNameError\u001b[0m                                 Traceback (most recent call last)",
      "\u001b[1;32m/home/capeai/learning/ML_learning/nn_from_scratch/src/nn_class.ipynb Cell 12\u001b[0m in \u001b[0;36m<cell line: 1>\u001b[0;34m()\u001b[0m\n\u001b[0;32m----> <a href='vscode-notebook-cell:/home/capeai/learning/ML_learning/nn_from_scratch/src/nn_class.ipynb#X15sZmlsZQ%3D%3D?line=0'>1</a>\u001b[0m mod\u001b[39m.\u001b[39;49mtest_predict(\u001b[39m23\u001b[39;49m)\n",
      "\u001b[1;32m/home/capeai/learning/ML_learning/nn_from_scratch/src/nn_class.ipynb Cell 12\u001b[0m in \u001b[0;36mmodel.test_predict\u001b[0;34m(self, sample_index)\u001b[0m\n\u001b[1;32m    <a href='vscode-notebook-cell:/home/capeai/learning/ML_learning/nn_from_scratch/src/nn_class.ipynb#X15sZmlsZQ%3D%3D?line=174'>175</a>\u001b[0m plt\u001b[39m.\u001b[39mshow()\n\u001b[1;32m    <a href='vscode-notebook-cell:/home/capeai/learning/ML_learning/nn_from_scratch/src/nn_class.ipynb#X15sZmlsZQ%3D%3D?line=175'>176</a>\u001b[0m sample \u001b[39m=\u001b[39m \u001b[39mself\u001b[39m\u001b[39m.\u001b[39mY[sample_index]\n\u001b[0;32m--> <a href='vscode-notebook-cell:/home/capeai/learning/ML_learning/nn_from_scratch/src/nn_class.ipynb#X15sZmlsZQ%3D%3D?line=176'>177</a>\u001b[0m X_sample \u001b[39m=\u001b[39m X[sample_index]\n\u001b[1;32m    <a href='vscode-notebook-cell:/home/capeai/learning/ML_learning/nn_from_scratch/src/nn_class.ipynb#X15sZmlsZQ%3D%3D?line=177'>178</a>\u001b[0m prediction \u001b[39m=\u001b[39m \u001b[39mself\u001b[39m\u001b[39m.\u001b[39mmake_prediction(\u001b[39mself\u001b[39m\u001b[39m.\u001b[39mX[:,sample_index, \u001b[39mNone\u001b[39;00m])\n\u001b[1;32m    <a href='vscode-notebook-cell:/home/capeai/learning/ML_learning/nn_from_scratch/src/nn_class.ipynb#X15sZmlsZQ%3D%3D?line=178'>179</a>\u001b[0m \u001b[39mprint\u001b[39m(\u001b[39mf\u001b[39m\u001b[39m\"\u001b[39m\u001b[39m{\u001b[39;00msample\u001b[39m=}\u001b[39;00m\u001b[39m , prediction = \u001b[39m\u001b[39m{\u001b[39;00mprediction\u001b[39m}\u001b[39;00m\u001b[39m. Correct = \u001b[39m\u001b[39m{\u001b[39;00msample \u001b[39m==\u001b[39m prediction\u001b[39m}\u001b[39;00m\u001b[39m\"\u001b[39m)\n",
      "\u001b[0;31mNameError\u001b[0m: name 'X' is not defined"
     ]
    }
   ],
   "source": [
    "mod.test_predict(23)\n"
   ]
  },
  {
   "cell_type": "code",
   "execution_count": null,
   "metadata": {},
   "outputs": [],
   "source": [
    "Z1, A1, Z2, Y_hat = forward_pass(X_train[:,12, None], mod.W1, mod.b1, mod.W2, mod.b2)\n"
   ]
  },
  {
   "cell_type": "code",
   "execution_count": null,
   "metadata": {},
   "outputs": [],
   "source": [
    "Y_hat.shape"
   ]
  },
  {
   "cell_type": "code",
   "execution_count": null,
   "metadata": {},
   "outputs": [],
   "source": [
    "Y_hat.argmax()"
   ]
  },
  {
   "cell_type": "code",
   "execution_count": null,
   "metadata": {},
   "outputs": [],
   "source": []
  }
 ],
 "metadata": {
  "kernelspec": {
   "display_name": "Python 3 (ipykernel)",
   "language": "python",
   "name": "python3"
  },
  "language_info": {
   "codemirror_mode": {
    "name": "ipython",
    "version": 3
   },
   "file_extension": ".py",
   "mimetype": "text/x-python",
   "name": "python",
   "nbconvert_exporter": "python",
   "pygments_lexer": "ipython3",
   "version": "3.8.10"
  },
  "vscode": {
   "interpreter": {
    "hash": "916dbcbb3f70747c44a77c7bcd40155683ae19c65e1c03b4aa3499c5328201f1"
   }
  }
 },
 "nbformat": 4,
 "nbformat_minor": 2
}
