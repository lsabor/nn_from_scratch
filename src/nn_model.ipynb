{
 "cells": [
  {
   "cell_type": "code",
   "execution_count": 18,
   "metadata": {},
   "outputs": [],
   "source": [
    "#export\n",
    "\n",
    "import numpy as np\n",
    "import matplotlib.pyplot as plt\n",
    "import math\n",
    "\n",
    "class model():\n",
    "    def __init__(self, X_dataset,Y_dataset, learning_rate = 0.1):\n",
    "        self.X = X_dataset\n",
    "        self.Y = Y_dataset\n",
    "        self.W1 = np.random.rand(10, 784) -.5\n",
    "        self.b1 = np.random.rand(10,1) -.5\n",
    "        self.W2 = np.random.rand(10,10) -.5\n",
    "        self.b2 = np.random.rand(10,1) -.5\n",
    "        self.learning_rate = learning_rate\n",
    "    \n",
    "    def update(self,X_dataset, Y_dataset):\n",
    "        self.X = X_dataset\n",
    "        self.Y = Y_dataset\n",
    "\n",
    "    def get_predictions(self,Y_hat):\n",
    "        predictions = np.argmax(Y_hat,0)\n",
    "        return predictions\n",
    "\n",
    "    \n",
    "    def accuracy(self, Y_hat, Y):\n",
    "        \n",
    "        predictions = self.get_predictions(Y_hat)\n",
    "        return np.sum(predictions == Y) / Y.size\n",
    "    \n",
    "    def gradient_descent(self, iterations, learning_rate=0.5):\n",
    "\n",
    "        m = self.X.shape[1]\n",
    "        one_hot_Y = self.one_hot_encode(self.Y)\n",
    "        for iteration in range(iterations):\n",
    "\n",
    "            Z1, A1, Z2, Y_hat = self.forward_pass(X=self.X)\n",
    "\n",
    "            DW1, Db1, DW2, Db2 = self.backwards_propagation(Y_hat,one_hot_Y, self.X,Z2, A1, Z1, m)\n",
    "            self.update_params( DW1, Db1, DW2, Db2, self.learning_rate)\n",
    "\n",
    "            accuracy = self.accuracy(Y_hat, self.Y)\n",
    "            if iteration% 20 == 0:\n",
    "                loss = self.cross_entropy_loss(one_hot_Y, Y_hat)\n",
    "                print(f\"Iteration={iteration} \\n    {accuracy=}\\n    {loss=}\")\n",
    "\n",
    "    \n",
    "    def ReLU(self, n: float) -> float:\n",
    "        \"\"\"rectified linear unit activation function\"\"\"\n",
    "        return np.maximum(n, 0)\n",
    "\n",
    "    def ReLU_deriv(self, n: float) -> int:\n",
    "        \"\"\"\"derivative of ReLU\"\"\"\n",
    "        return n > 0\n",
    "\n",
    "    def softmax(self, array: np.array) -> np.array:\n",
    "        # collapses 1 dimension of array\n",
    "        # np.exp(s) / sum(np.exp(s))\n",
    "        return np.exp(array) / np.sum(np.exp(array), axis=0)\n",
    "\n",
    "    def forward_pass(self, X):\n",
    "        Z1 = np.dot(self.W1, X) + self.b1\n",
    "        A1 = self.ReLU(Z1)\n",
    "        Z2 = self.W2.dot(A1) + self.b2\n",
    "        Y_hat = self.softmax(Z2) \n",
    "        return Z1, A1, Z2, Y_hat\n",
    "\n",
    "    def one_hot_encode(self, Y: np.array, classes = 10):\n",
    "        # first instantiate 0's which should be an array of len(Y) max(Y) \n",
    "        one_hot = np.zeros((Y.size,classes))\n",
    "        one_hot[np.arange(Y.size), Y] = 1\n",
    "        return one_hot.T\n",
    "\n",
    "    def cross_entropy_loss(self, y_actual, y_predictions):\n",
    "        num_samples=len(y_actual)\n",
    "        class_targets =np.array(y_actual)\n",
    "        y_actual = y_actual\n",
    "        y_pred_clipped = np.clip(y_predictions, 1e-7, 1-1e-7)\n",
    "        if len(y_actual.shape) ==1:\n",
    "            targeted_predictions = y_pred_clipped[[range(num_samples), class_targets]]\n",
    "        elif len(y_actual.shape) == 2:\n",
    "            targeted_predictions = np.sum(y_pred_clipped.T * y_actual.T, axis=1)\n",
    "        negative_log_likelihoods = -np.log(targeted_predictions)\n",
    "        return np.mean(negative_log_likelihoods)\n",
    "    \n",
    "\n",
    "    def backwards_propagation(self, Y_hat, Y, X, Z2, A1, Z1, m):\n",
    "        DZ2 =  -Y +Y_hat \n",
    "        DW2 = np.dot(DZ2,A1.T) / m\n",
    "        \n",
    "        Db2 = np.sum(DZ2) / m\n",
    "\n",
    "        DZ1 = np.dot(self.W2.T, DZ2) * self.ReLU_deriv(Z1)\n",
    "\n",
    "        DW1 = np.dot(DZ1, self.X.T) / m\n",
    "        Db1 =  np.sum(DZ1) / m\n",
    "        return DW1, Db1, DW2, Db2\n",
    "\n",
    "\n",
    "    def update_params(self, dW1, db1, dW2, db2, learning_rate):\n",
    "        self.W1 = self.W1 - learning_rate*dW1\n",
    "        self.b1 = self.b1 - learning_rate*db1\n",
    "        self.W2 = self.W2 - learning_rate*dW2\n",
    "        self.b2 = self.b2 - learning_rate*db2\n",
    "\n",
    "\n",
    "    def make_prediction(self,X):\n",
    "        print(X.shape)\n",
    "        _,_,_, Y_hat = self.forward_pass(X)\n",
    "        predictions = self.get_predictions(Y_hat)\n",
    "        return predictions\n",
    "\n",
    "    def test_predict(self,sample_index):\n",
    "        current_image = self.X[:, sample_index, None]\n",
    "        sample = self.Y[sample_index]\n",
    "        current_image = current_image.reshape((28,28))*255\n",
    "\n",
    "        plt.gray()\n",
    "        plt.imshow(current_image, interpolation=\"nearest\")\n",
    "        plt.show()\n",
    "        sample = self.Y[sample_index]\n",
    "        X_sample = self.X[sample_index]\n",
    "        prediction = self.make_prediction(self.X[:,sample_index, None])\n",
    "        print(f\"{sample=} , prediction = {prediction}. Correct = {sample == prediction[0]}\")\n",
    "\n",
    "    def export_weights(self):\n",
    "        return self.W1, self.b1, self.W2, self.b2\n",
    "    \n",
    "    def import_weights(self, W1, b1, W2, b2):\n",
    "        self.W1 = W1\n",
    "        self.b1 = b1\n",
    "        self.W2 = W2\n",
    "        self.b2 = b2\n",
    "\n",
    "\n",
    "            \n"
   ]
  },
  {
   "cell_type": "code",
   "execution_count": 46,
   "metadata": {},
   "outputs": [],
   "source": [
    "import get_data\n",
    "X_train, Y_train, X_test, Y_test = get_data.import_mnist()\n",
    "\n",
    "# normalize pixel data to values between 0 and 1. Max = 255, min = 0, thus divide by 255\n",
    "X_train = X_train / 255.0\n",
    "X_test = X_test / 255.0"
   ]
  },
  {
   "cell_type": "code",
   "execution_count": 26,
   "metadata": {},
   "outputs": [],
   "source": [
    "\n",
    "mod = model(X_train, Y_train, learning_rate=0.5)\n"
   ]
  },
  {
   "cell_type": "code",
   "execution_count": 27,
   "metadata": {},
   "outputs": [
    {
     "name": "stdout",
     "output_type": "stream",
     "text": [
      "Iteration=0 \n",
      "    accuracy=0.09656827613793563\n",
      "    loss=3.6940192112285306\n",
      "Iteration=20 \n",
      "    accuracy=0.5074917915298588\n",
      "    loss=1.393161981457739\n",
      "Iteration=40 \n",
      "    accuracy=0.6094268237803964\n",
      "    loss=1.0760056178116313\n",
      "Iteration=60 \n",
      "    accuracy=0.6862781046350772\n",
      "    loss=0.906381656790393\n",
      "Iteration=80 \n",
      "    accuracy=0.7305621760362673\n",
      "    loss=0.7898994228330328\n",
      "Iteration=100 \n",
      "    accuracy=0.7771462857714295\n",
      "    loss=0.6751557827097653\n",
      "Iteration=120 \n",
      "    accuracy=0.7960132668877815\n",
      "    loss=0.619509473134814\n",
      "Iteration=140 \n",
      "    accuracy=0.8149469157819297\n",
      "    loss=0.577037098090081\n",
      "Iteration=160 \n",
      "    accuracy=0.8290638177302955\n",
      "    loss=0.5443400949019157\n",
      "Iteration=180 \n",
      "    accuracy=0.8407973466224437\n",
      "    loss=0.5168395081218579\n",
      "Iteration=200 \n",
      "    accuracy=0.8507808463474391\n",
      "    loss=0.4915025952735083\n",
      "Iteration=220 \n",
      "    accuracy=0.8577142952382539\n",
      "    loss=0.47011426952933283\n",
      "Iteration=240 \n",
      "    accuracy=0.8638977316288605\n",
      "    loss=0.4527289373367089\n",
      "Iteration=260 \n",
      "    accuracy=0.8692311538525642\n",
      "    loss=0.4380660828768586\n",
      "Iteration=280 \n",
      "    accuracy=0.8736145602426707\n",
      "    loss=0.4261201818318188\n"
     ]
    }
   ],
   "source": [
    "\n",
    "mod.gradient_descent(300)\n",
    "saved_W1, saved_b1 , saved_W2 ,saved_b2  = mod.export_weights()\n",
    "\n"
   ]
  },
  {
   "cell_type": "code",
   "execution_count": 28,
   "metadata": {},
   "outputs": [
    {
     "data": {
      "image/png": "[encoded data removed]",
      "text/plain": [
       "<Figure size 432x288 with 1 Axes>"
      ]
     },
     "metadata": {
      "needs_background": "light"
     },
     "output_type": "display_data"
    },
    {
     "name": "stdout",
     "output_type": "stream",
     "text": [
      "(784, 1)\n",
      "sample=7 , prediction = [7]. Correct = True\n"
     ]
    },
    {
     "data": {
      "image/png": "[encoded data removed]",
      "text/plain": [
       "<Figure size 432x288 with 1 Axes>"
      ]
     },
     "metadata": {
      "needs_background": "light"
     },
     "output_type": "display_data"
    },
    {
     "name": "stdout",
     "output_type": "stream",
     "text": [
      "(784, 1)\n",
      "sample=2 , prediction = [6]. Correct = False\n"
     ]
    },
    {
     "data": {
      "image/png": "[encoded data removed]",
      "text/plain": [
       "<Figure size 432x288 with 1 Axes>"
      ]
     },
     "metadata": {
      "needs_background": "light"
     },
     "output_type": "display_data"
    },
    {
     "name": "stdout",
     "output_type": "stream",
     "text": [
      "(784, 1)\n",
      "sample=2 , prediction = [2]. Correct = True\n"
     ]
    },
    {
     "data": {
      "image/png": "[encoded data removed]",
      "text/plain": [
       "<Figure size 432x288 with 1 Axes>"
      ]
     },
     "metadata": {
      "needs_background": "light"
     },
     "output_type": "display_data"
    },
    {
     "name": "stdout",
     "output_type": "stream",
     "text": [
      "(784, 1)\n",
      "sample=6 , prediction = [6]. Correct = True\n"
     ]
    },
    {
     "data": {
      "image/png": "[encoded data removed]",
      "text/plain": [
       "<Figure size 432x288 with 1 Axes>"
      ]
     },
     "metadata": {
      "needs_background": "light"
     },
     "output_type": "display_data"
    },
    {
     "name": "stdout",
     "output_type": "stream",
     "text": [
      "(784, 1)\n",
      "sample=1 , prediction = [1]. Correct = True\n"
     ]
    }
   ],
   "source": [
    "for i in range(5):\n",
    "    mod.test_predict(i)\n"
   ]
  },
  {
   "cell_type": "code",
   "execution_count": 35,
   "metadata": {},
   "outputs": [
    {
     "name": "stdout",
     "output_type": "stream",
     "text": [
      "Converted nn_model.ipynb to exp/nb_nn.py\n"
     ]
    }
   ],
   "source": [
    "\n",
    "\n",
    "!./notebook2script.py nn_model.ipynb\n",
    "\n"
   ]
  },
  {
   "cell_type": "code",
   "execution_count": null,
   "metadata": {},
   "outputs": [],
   "source": []
  }
 ],
 "metadata": {
  "kernelspec": {
   "display_name": "Python 3 (ipykernel)",
   "language": "python",
   "name": "python3"
  },
  "language_info": {
   "codemirror_mode": {
    "name": "ipython",
    "version": 3
   },
   "file_extension": ".py",
   "mimetype": "text/x-python",
   "name": "python",
   "nbconvert_exporter": "python",
   "pygments_lexer": "ipython3",
   "version": "3.8.10"
  },
  "vscode": {
   "interpreter": {
    "hash": "916dbcbb3f70747c44a77c7bcd40155683ae19c65e1c03b4aa3499c5328201f1"
   }
  }
 },
 "nbformat": 4,
 "nbformat_minor": 2
}
