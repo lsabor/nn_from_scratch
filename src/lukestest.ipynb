{
 "cells": [
  {
   "cell_type": "code",
   "execution_count": 1,
   "metadata": {},
   "outputs": [],
   "source": [
    "\"\"\"import our data\"\"\"\n",
    "\n",
    "import numpy as np\n",
    "from data import get_data_from_csv, get_labels_and_data_1st_column\n",
    "import matplotlib.pyplot as plt\n",
    "import math\n",
    "\n",
    "# DATA FROM HERE: https://pjreddie.com/projects/mnist-in-csv/\n",
    "file_test = '../data/MNIST/mnist_test.csv'\n",
    "file_train = '../data/MNIST/mnist_train.csv'\n",
    "\n",
    "data_test, m_test, n_test = get_data_from_csv(file_test)\n",
    "Y_test, X_test = get_labels_and_data_1st_column(data_test)\n",
    "\n",
    "data_train, m_train, n_train = get_data_from_csv(file_train)\n",
    "Y_train, X_train = get_labels_and_data_1st_column(data_train)\n",
    "\n",
    "assert n_test == n_train\n",
    "n = n_test\n",
    "m = m_test + m_train\n",
    "\n"
   ]
  },
  {
   "cell_type": "code",
   "execution_count": 2,
   "metadata": {},
   "outputs": [],
   "source": [
    "\"\"\"making sure that our Y_test/Y_train are actually labels\"\"\"\n",
    "\n",
    "assert Y_test.max() == 9\n",
    "assert Y_train.max() == 9\n",
    "assert X_test[0].max() != 9\n",
    "assert X_train[0].max() != 9\n",
    "\n",
    "# display(Y_test[:100])\n",
    "# display(Y_train[:100])\n",
    "# display(X_test[500][:100])\n",
    "# display(X_train[500][:100])"
   ]
  },
  {
   "cell_type": "code",
   "execution_count": 3,
   "metadata": {},
   "outputs": [],
   "source": [
    "# normalize pixel data to values between 0 and 1. Max = 255, min = 0, thus divide by 255\n",
    "X_train = X_train / 255.\n",
    "X_test = X_test / 255."
   ]
  },
  {
   "cell_type": "code",
   "execution_count": 4,
   "metadata": {},
   "outputs": [
    {
     "name": "stdout",
     "output_type": "stream",
     "text": [
      "\n",
      "GOING WITH softmax_deriv for real\n",
      "\n",
      "W2 = array([[-0.49401717, -0.39344673,  0.16643332,  0.62938038],\n",
      "       [-1.39457955, -0.62359613, -0.00250598,  0.69085349],\n",
      "       [-1.19560725, -0.77126029, -0.35043784, -0.41737817],\n",
      "       [-0.49866737, -0.24884278, -0.32906893, -1.06952687]])\n",
      "b2 = array([ 0.18809544, -0.68993784, -0.33827194,  0.574414  ])\n",
      "Loss = 0.6713816540396009\n",
      "\n",
      "W2 = array([[ 0.50437682, -3.37573078, -3.82487244, -0.37737112],\n",
      "       [-0.39618556, -3.60588018, -3.99381174, -0.31589801],\n",
      "       [-0.19721326, -3.75354434, -4.3417436 , -1.42412967],\n",
      "       [ 0.49972662, -3.23112683, -4.32037469, -2.07627837]])\n",
      "b2 = array([-1.80869255, -2.18107987,  3.65303382,  0.07103825])\n",
      "Loss = 0.003209430747444754\n",
      "\n",
      "GOING WITH softmax_deriv is just 1\n",
      "\n",
      "W1 = array([[-0.49401717, -0.39344673,  0.16643332,  0.62938038],\n",
      "       [-1.39457955, -0.62359613, -0.00250598,  0.69085349],\n",
      "       [-1.19560725, -0.77126029, -0.35043784, -0.41737817],\n",
      "       [-0.49866737, -0.24884278, -0.32906893, -1.06952687]])\n",
      "b1 = array([ 0.18809544, -0.68993784, -0.33827194,  0.574414  ])\n",
      "Loss = 0.6713816540396009\n",
      "\n",
      "W1 = array([[ 0.73998361, -4.23642745, -4.9676421 , -0.85978663],\n",
      "       [-0.16057877, -4.46657685, -5.13658139, -0.79831352],\n",
      "       [ 0.03839353, -4.61424101, -5.48451325, -1.90654518],\n",
      "       [ 0.7353334 , -4.0918235 , -5.46314435, -2.55869388]])\n",
      "b1 = array([-2.27990611, -2.61142821,  4.79580348, -0.1701695 ])\n",
      "Loss = 0.0001606174251791455\n"
     ]
    }
   ],
   "source": [
    "def loss(Y, Y_hat):\n",
    "    return 1/2 * np.sum((Y - Y_hat)**2)\n",
    "\n",
    "def softmax(s):\n",
    "    return np.exp(s) / sum(np.exp(s))\n",
    "\n",
    "def softmax_deriv(s):\n",
    "    sm = softmax(s)\n",
    "    return sm.dot(1-sm)\n",
    "\n",
    "LR = 1\n",
    "Y = np.array([0,0,1,0])\n",
    "A1 = np.array([-.5, 2, -1, 2])\n",
    "W1 = W2 = np.random.randn(4, 4)\n",
    "b1 = b2 = np.random.randn(4)\n",
    "epochs = 100\n",
    "\n",
    "print()\n",
    "print(\"GOING WITH softmax_deriv for real\")\n",
    "for epoch in range(epochs):\n",
    "    # print()\n",
    "    # print(f\"{epoch = }\")\n",
    "    # print(f\"{Y = }\")\n",
    "    Z2 = np.dot(W2,A1) + b2\n",
    "\n",
    "    Y_hat = softmax(Z2)\n",
    "    # print(f\"{Y_hat = }\")\n",
    "    Loss  =  loss(Y,Y_hat)\n",
    "    if not epoch%(epochs//2):\n",
    "        print(f\"\\n{W2 = }\\n{b2 = }\\n{Loss = }\")\n",
    "\n",
    "    DY_hat = -Y + Y_hat\n",
    "    # print(f\"{DY_hat = }\")\n",
    "    dY_hatdZ2  =  softmax_deriv(Z2)\n",
    "    # print(f\"{dY_hatdZ2 = }\")\n",
    "    DZ2  =  DY_hat * dY_hatdZ2\n",
    "    # print(f\"{DZ2 = }\")\n",
    "    dZ2dW2 = A1\n",
    "    dZ2db2 = 1\n",
    "    DW2 = DZ2 * A1\n",
    "    Db2 = DZ2\n",
    "\n",
    "    W2 = W2 - LR*DW2\n",
    "    b2 = b2 - LR*Db2\n",
    "\n",
    "print()\n",
    "print(\"GOING WITH softmax_deriv is just 1\")\n",
    "for epoch in range(epochs):\n",
    "    # print()\n",
    "    # print(f\"{epoch = }\")\n",
    "    # print(f\"{Y = }\")\n",
    "    Z2 = np.dot(W1,A1) + b1\n",
    "\n",
    "    Y_hat = softmax(Z2)\n",
    "    # print(f\"{Y_hat = }\")\n",
    "    Loss  =  loss(Y,Y_hat)\n",
    "    if not epoch%(epochs//2):\n",
    "        print(f\"\\n{W1 = }\\n{b1 = }\\n{Loss = }\")\n",
    "\n",
    "    DY_hat = -Y + Y_hat\n",
    "    # print(f\"{DY_hat = }\")\n",
    "    dY_hatdZ2  =  1\n",
    "    # print(f\"{dY_hatdZ2 = }\")\n",
    "    DZ2  =  DY_hat * dY_hatdZ2\n",
    "    # print(f\"{DZ2 = }\")\n",
    "    dZ2dW1 = A1\n",
    "    dZ2db1 = 1\n",
    "    DW1 = DZ2 * A1\n",
    "    Db1 = DZ2\n",
    "\n",
    "    W1 = W1 - LR*DW1\n",
    "    b1 = b1 - LR*Db1"
   ]
  },
  {
   "cell_type": "code",
   "execution_count": 5,
   "metadata": {},
   "outputs": [],
   "source": [
    "\"\"\"\n",
    "FORWARD PASS\n",
    "Give X\n",
    "A0 = X :: [784,m]\n",
    "Z1[10,m] = W1[10,784] * X[784,m] + b1[10]\n",
    "A1[10,m] = RelU(Z1[10,m])\n",
    "Z2[10,m] = W2[10,10] * A1[10,m] + b2[10]\n",
    "Y_hat[10,m] = softmax(A2[10,m])\n",
    "Receive Y_hat\n",
    "\"\"\"\n",
    "\n",
    "\n",
    "def initialize_w_b():\n",
    "    W1 = np.random.randn(10, 784)\n",
    "    b1 = np.random.randn(10,1)\n",
    "    W2 = np.random.randn(10,10)\n",
    "    b1 = np.random.randn(10,1)\n",
    "    return W1, b1, W2, b1\n",
    "\n",
    "\n"
   ]
  },
  {
   "cell_type": "code",
   "execution_count": 6,
   "metadata": {},
   "outputs": [
    {
     "ename": "NameError",
     "evalue": "name 'forward_pass' is not defined",
     "output_type": "error",
     "traceback": [
      "\u001b[0;31m---------------------------------------------------------------------------\u001b[0m",
      "\u001b[0;31mNameError\u001b[0m                                 Traceback (most recent call last)",
      "\u001b[1;32m/home/capeai/learning/ML_learning/nn_from_scratch/src/lukestest.ipynb Cell 6\u001b[0m in \u001b[0;36m<cell line: 15>\u001b[0;34m()\u001b[0m\n\u001b[1;32m     <a href='vscode-notebook-cell:/home/capeai/learning/ML_learning/nn_from_scratch/src/lukestest.ipynb#W5sZmlsZQ%3D%3D?line=12'>13</a>\u001b[0m Y \u001b[39m=\u001b[39m Y_train\n\u001b[1;32m     <a href='vscode-notebook-cell:/home/capeai/learning/ML_learning/nn_from_scratch/src/lukestest.ipynb#W5sZmlsZQ%3D%3D?line=13'>14</a>\u001b[0m X \u001b[39m=\u001b[39m X_train\n\u001b[0;32m---> <a href='vscode-notebook-cell:/home/capeai/learning/ML_learning/nn_from_scratch/src/lukestest.ipynb#W5sZmlsZQ%3D%3D?line=14'>15</a>\u001b[0m Z1, A1, Z2, Y_hat \u001b[39m=\u001b[39m forward_pass(X[:,\u001b[39m1\u001b[39m, \u001b[39mNone\u001b[39;00m], W1, b1, W2, b2)\n\u001b[1;32m     <a href='vscode-notebook-cell:/home/capeai/learning/ML_learning/nn_from_scratch/src/lukestest.ipynb#W5sZmlsZQ%3D%3D?line=15'>16</a>\u001b[0m \u001b[39mprint\u001b[39m(np\u001b[39m.\u001b[39msum(Y_hat,axis\u001b[39m=\u001b[39m\u001b[39m1\u001b[39m))\n\u001b[1;32m     <a href='vscode-notebook-cell:/home/capeai/learning/ML_learning/nn_from_scratch/src/lukestest.ipynb#W5sZmlsZQ%3D%3D?line=17'>18</a>\u001b[0m \u001b[39mprint\u001b[39m(Y_hat\u001b[39m.\u001b[39mshape)\n",
      "\u001b[0;31mNameError\u001b[0m: name 'forward_pass' is not defined"
     ]
    }
   ],
   "source": [
    "W1, b1, W2, b2 = initialize_w_b()\n",
    "\n",
    "\n",
    "\n",
    "batch_size = 8\n",
    "m = batch_size\n",
    "# X = X_test[:,:m]\n",
    "# Y = Y_test[:m]\n",
    "\n",
    "\n",
    "# Y = one_hot_encode(Y)\n",
    "\n",
    "Y = Y_train\n",
    "X = X_train\n",
    "Z1, A1, Z2, Y_hat = forward_pass(X[:,1, None], W1, b1, W2, b2)\n",
    "print(np.sum(Y_hat,axis=1))\n",
    "\n",
    "print(Y_hat.shape)\n",
    "print(sum(Y_hat))\n",
    "\n",
    "# DW1, Db1, DW2, Db2 = backwards_propagation(Y_hat, Y, X, Z2, A1, Z1, W1, b1, W2, b2, m)\n"
   ]
  },
  {
   "cell_type": "code",
   "execution_count": 102,
   "metadata": {},
   "outputs": [],
   "source": [
    "class model():\n",
    "    def __init__(self, X_dataset,Y_dataset):\n",
    "        self.X = X_dataset\n",
    "        self.Y = Y_dataset\n",
    "        self.W1 = np.random.rand(10, 784)\n",
    "        self.b1 = np.random.rand(10,1)\n",
    "        self.W2 = np.random.rand(10,10)\n",
    "        self.b2 = np.random.rand(10,1)\n",
    "    \n",
    "    def update(self,X_dataset, Y_dataset):\n",
    "        self.X = X_dataset\n",
    "        self.Y = Y_dataset\n",
    "\n",
    "    def get_predictions(self,Y_hat):\n",
    "        predictions = np.argmax(Y_hat,0)\n",
    "        return predictions\n",
    "\n",
    "    \n",
    "    def accuracy(self, Y_hat, Y):\n",
    "        \n",
    "        predictions = self.get_predictions(Y_hat)\n",
    "        return np.sum(predictions == Y) / Y.size\n",
    "    \n",
    "    def gradient_descent(self, iterations, learning_rate=0.01):\n",
    "        for iteration in range(iterations):\n",
    "            Z1, A1, Z2, Y_hat = self.forward_pass(X=self.X)\n",
    "            DW1, Db1, DW2, Db2 = self.backwards_propagation(Y_hat,self.Y, Z2, A1, Z1, m)\n",
    "            print(f\"{DW1.shape} | {Db1.shape} | {DW2.shape} | {Db2.shape}\")\n",
    "            print(f\"before, {self.b1=} {Db1=}\")\n",
    "            self.update_params( DW1, Db1, DW2, Db2, 0.01)\n",
    "            print(\"after, \", self.b1)\n",
    "\n",
    "            accuracy = self.accuracy(Y_hat, self.Y)\n",
    "            print(accuracy)\n",
    "    \n",
    "    def ReLU(self, n: float) -> float:\n",
    "        \"\"\"rectified linear unit activation function\"\"\"\n",
    "        return np.maximum(n, 0)\n",
    "\n",
    "    def ReLU_deriv(self, n: float) -> int:\n",
    "        \"\"\"\"derivative of ReLU\"\"\"\n",
    "        return n > 0\n",
    "\n",
    "    def softmax(self, array: np.array) -> np.array:\n",
    "        # collapses 1 dimension of array\n",
    "        return np.exp(array) / np.sum(np.exp(array), axis=0)\n",
    "\n",
    "    def forward_pass(self, X):\n",
    "        Z1 = np.dot(self.W1, X) + self.b1\n",
    "        A1 = self.ReLU(Z1)\n",
    "        Z2 = self.W2.dot(A1) + self.b2\n",
    "        Y_hat = softmax(Z2) \n",
    "        return Z1, A1, Z2, Y_hat\n",
    "\n",
    "    def one_hot_encode(self, Y: np.array, classes = 10):\n",
    "        # first instantiate 0's which should be an array of len(Y) max(Y) \n",
    "        one_hot = np.zeros((Y.size,classes))\n",
    "        one_hot[np.arange(Y.size), Y] = 1\n",
    "        return one_hot.T\n",
    "\n",
    "\n",
    "    def backwards_propagation(self, Y_hat, Y, X, Z2, A1, Z1, m):\n",
    "        \"\"\"\n",
    "\n",
    "\n",
    "        \n",
    "        n = number of possible encodings # in general, n can change through a network,\n",
    "            but we're assuming that n is used for encodings and also layer size\n",
    "        m = number of inputs, batch size\n",
    "\n",
    "        x = number of datapoints per input\n",
    "        X[x,m] = Input - m examples of x data points\n",
    "        Y[n,m] = one-hot encoding of results: e.g. [[0,0,0,1,0,0], ... ] (with m encodings)\n",
    "        W1[n,x] = weights applied to X\n",
    "        b1[n,1] = biases applied to values going into Z1_n\n",
    "        Z1[n,m] = pre-activation function values = W1[n,x] dot X[x,m] + b1[n,1]\n",
    "        A1[n,m] = ReLU(Z1[n,m])\n",
    "        W2[n,n] = weights applied to A1\n",
    "        b2[n,1] = biases applied to values going into Z2_n\n",
    "        Z2[n,m] = pre-softmax function values = W2[n,n] dot A1[n,m] + b2[n,1]\n",
    "        Y_hat[n,m] = the estimate of Y = softmax(Z2[n,m])\n",
    "        \n",
    "        definition: Loss = L[m] = [L_0, L_1, ..., L_m] # possiblly L[1,m]\n",
    "            = 1/2*np.sum((Y - Y_hat)**2)\n",
    "            in other words for each row m:\n",
    "                L_m = 1/2*sum[j from 0 to n] of (Y[j,m] - Y_hat[j,m])**2 \n",
    "                = sum[j from 0 to n] of 1/2*Y[j,m]**2 - Y[j,m]*Y_hat[j,m] + 1/2*Y_hat[j,m]**2\n",
    "    (1)     L = np.sum(1/2*Y**2 - Y*Y_hat + 1/2*Y_hat**2)\n",
    "        We set this loss specifically so that the derivative works out nicely\n",
    "\n",
    "        To minimize L, we want to see how L will change with respect to the variable\n",
    "        that we can control, namely Y_hat.\n",
    "        We can calculate how changing one of the values in Y_hat effects Y.\n",
    "        DY_hat[j,m] = dL/dY_hat[j,m] = -Y[j,m] + Y_hat[j,m] \n",
    "        This generalizes because dL/dY_hat should be an array of shape Y.shape, with each\n",
    "        value j corresponding to how much Y_hat[j] effects L given some specific input (m).\n",
    "        NOTE: dL/dY_hat will show how to change Y_hat to *increase* L by 1 unit \n",
    "        (this will be true for all derivatives we calculate).\n",
    "        dL/dY_hat = -Y + Y_hat (calculated derivative from (1))\n",
    "        call this DY_hat for simplicity\n",
    "\n",
    "        REMINDER: Y_hat[n,m] = softmax(Z2[n,m])\n",
    "        NOTE: dSoftmax(X)/dX = softmax(X) dot (1-softmax(X)), but we will use 1 instead FOR SOME REASON???\n",
    "        dY_hat/dZ2 = 1                    ####### not: softmax(Z2)*(1-softmax(Z2))\n",
    "        thus, by chain rule:\n",
    "        DZ2[n,m] = dL/dZ2 = dL/dY_hat * dY_hat/dZ2 = DY_hat * 1\n",
    "\n",
    "        REMINDER: Z2[n,m] = W2[n,n] dot A1[n,m] + b2[n,1]\n",
    "        dZ2/dW2[m,n] = A1[n,m].T[m,n] / m\n",
    "        dZ2/db2[m,1] = np.sum(Z2[n,m])[m] / m\n",
    "        Now, were ready to calculate DW2, Db2\n",
    "        DW2[n,n] = dL/dW2 = dL/dZ2 * dZ2/dW2 = DZ2[n,m] dot A1.T[m,n] / m\n",
    "        Db2[n,1] = dL/db2 = dL/dZ2 * dZ2/db2 = DZ2[n,m] dot np.sum(Z2[n,m])[m,1] / m \n",
    "\n",
    "        \n",
    "        dZ2/dA1 = W2[n,n]\n",
    "        DA1[n,n] = dL/dA1 = dL/dZ2 * dZ2/dA1 = DZ2[n,m] * W2[n,n]\n",
    "        DZ1[x,x] = dL/dA1 * dA1/dZ1 = DA1[n,n] * ReLU_deriv(Z1)\n",
    "\n",
    "        REMINDER: Z1[n,m] = W1[n,x] dot X[x,m] + b1[n,1]\n",
    "        dZ1/dW1[m,n] = X[n,m].T[m,n] / m\n",
    "        dZ1/db1[m,1] = np.sum(Z1[n,m])[m] / m\n",
    "        Now, were ready to calculate DW1, Db1\n",
    "        DW1[x,n] = dL/dW1 = dL/dZ1 * dZ1/dW1 = DZ1[x,x] dot X.T[x,n] / m\n",
    "        Db1[n,1] = dL/db1 = dL/dZ2 * dZ1/db1 = DZ2[n,m] dot np.sum(Z2[n,m])[m,1] / m \n",
    "        \n",
    "        \"\"\"\n",
    "        \n",
    "        m = Y.size\n",
    "        one_hot_Y = self.one_hot_encode(Y)\n",
    "        print(f\"{Y.shape}\")\n",
    "        DY_hat = -one_hot_Y + Y_hat\n",
    "        DZ2 = DY_hat * 1\n",
    "        \n",
    "        print()\n",
    "        DW2 = np.dot(DZ2,A1.T) / m\n",
    "        Db2 = np.dot(DZ2, np.sum(Z2)) / m\n",
    "\n",
    "        DA1 = np.dot(self.W2.T, DZ2)\n",
    "        DZ1 = DA1 * self.ReLU_deriv(Z1)\n",
    "\n",
    "        DW1 = np.dot(DZ1, X.T) / m\n",
    "        Db1 = np.dot(DZ2, np.sum(Z2)) / m\n",
    "\n",
    "        return DW1, Db1, DW2, Db2\n",
    "\n",
    "        Y = self.one_hot_encode(Y)\n",
    "\n",
    "        DZ2 = -Y + Y_hat\n",
    "        \n",
    "        DW2 = np.dot(DZ2,A1.T) / m\n",
    "        \n",
    "        Db2 = np.sum(DZ2) / m\n",
    "\n",
    "        DZ1 = np.dot(self.W2.T, DZ2) * self.ReLU_deriv(Z1)\n",
    "\n",
    "        DW1 = np.dot(DZ1, self.X.T) / m\n",
    "        Db1 =  np.sum(DZ1) / m\n",
    "        print(f\"{DW1=} {Db1=} {DW2=} {Db2=}  \")\n",
    "        return DW1, Db1, DW2, Db2\n",
    "\n",
    "\n",
    "    def update_params(self, dW1, db1, dW2, db2, learning_rate):\n",
    "        self.W1 = self.W1 - learning_rate*dW1\n",
    "        self.b1 = self.b1 - learning_rate*db1\n",
    "        self.W2 = self.W2 - learning_rate*dW2\n",
    "        self.b2 = self.b2 - learning_rate*db2\n",
    "\n",
    "\n",
    "    def make_prediction(self,X):\n",
    "        print(X.shape)\n",
    "        _,_,_, Y_hat = self.forward_pass(X)\n",
    "        predictions = self.get_predictions(Y_hat)\n",
    "        return predictions\n",
    "\n",
    "    def test_predict(self,sample_index):\n",
    "        current_image = self.X[:, sample_index, None]\n",
    "        sample = Y[sample_index]\n",
    "        current_image = current_image.reshape((28,28))*255\n",
    "\n",
    "        plt.gray()\n",
    "        plt.imshow(current_image, interpolation=\"nearest\")\n",
    "        plt.show()\n",
    "        sample = Y[sample_index]\n",
    "        X_sample = X[sample_index]\n",
    "        prediction = self.make_prediction(self.X[:,sample_index, None])\n",
    "        print(f\"{sample=} , prediction = {prediction}. Correct = {sample == prediction}\")\n",
    "\n",
    "\n",
    "\n",
    "            \n"
   ]
  },
  {
   "cell_type": "code",
   "execution_count": 103,
   "metadata": {},
   "outputs": [
    {
     "name": "stdout",
     "output_type": "stream",
     "text": [
      "(59999,)\n",
      "DW1=array([[nan, nan, nan, ..., nan, nan, nan],\n",
      "       [nan, nan, nan, ..., nan, nan, nan],\n",
      "       [nan, nan, nan, ..., nan, nan, nan],\n",
      "       ...,\n",
      "       [nan, nan, nan, ..., nan, nan, nan],\n",
      "       [nan, nan, nan, ..., nan, nan, nan],\n",
      "       [nan, nan, nan, ..., nan, nan, nan]]), Db1=array([[ 9.99426103e-53,  3.49697815e-64,  3.20240583e-38, ...,\n",
      "         1.30311838e-80,  9.36307625e-66,  2.84531355e-38],\n",
      "       [ 9.74556380e-36,  3.06038248e-44,  2.25135576e-25, ...,\n",
      "         4.69592274e-55,  6.45760871e-43,  2.72260965e-25],\n",
      "       [ 1.46297002e-27, -2.67590448e+03, -2.67590448e+03, ...,\n",
      "         2.04796738e-42,  1.66335292e-35,  3.99143604e-18],\n",
      "       ...,\n",
      "       [ 2.67590448e+03,  2.67590448e+03,  2.67590448e+03, ...,\n",
      "         2.67590448e+03,  2.67590448e+03, -4.17939285e-09],\n",
      "       [ 9.66293094e-22,  1.21576192e-27,  3.49494799e-14, ...,\n",
      "         1.89258528e-35,  6.93492268e-27,  1.71656449e-17],\n",
      "       [-2.67590448e+03,  4.02433436e-15,  1.47958163e-08, ...,\n",
      "         2.93154851e-19,  6.77518069e-16,  3.39147738e-09]]), DW2=array([[-6.55581009, -6.641583  , -6.53034615, -6.57015036, -6.81787863,\n",
      "        -6.80247355, -6.66254353, -6.48790966, -6.92834785, -6.60540858],\n",
      "       [        nan,         nan,         nan,         nan,         nan,\n",
      "                nan,         nan,         nan,         nan,         nan],\n",
      "       [        nan,         nan,         nan,         nan,         nan,\n",
      "                nan,         nan,         nan,         nan,         nan],\n",
      "       [        nan,         nan,         nan,         nan,         nan,\n",
      "                nan,         nan,         nan,         nan,         nan],\n",
      "       [        nan,         nan,         nan,         nan,         nan,\n",
      "                nan,         nan,         nan,         nan,         nan],\n",
      "       [        nan,         nan,         nan,         nan,         nan,\n",
      "                nan,         nan,         nan,         nan,         nan],\n",
      "       [-5.16119   , -5.25030043, -5.19881035, -5.36612304, -5.43103676,\n",
      "        -5.26850619, -5.15132419, -5.14653132, -5.6273835 , -5.2664093 ],\n",
      "       [        nan,         nan,         nan,         nan,         nan,\n",
      "                nan,         nan,         nan,         nan,         nan],\n",
      "       [        nan,         nan,         nan,         nan,         nan,\n",
      "                nan,         nan,         nan,         nan,         nan],\n",
      "       [        nan,         nan,         nan,         nan,         nan,\n",
      "                nan,         nan,         nan,         nan,         nan]]), Db2=array([[ 9.99426103e-53,  3.49697815e-64,  3.20240583e-38, ...,\n",
      "         1.30311838e-80,  9.36307625e-66,  2.84531355e-38],\n",
      "       [ 9.74556380e-36,  3.06038248e-44,  2.25135576e-25, ...,\n",
      "         4.69592274e-55,  6.45760871e-43,  2.72260965e-25],\n",
      "       [ 1.46297002e-27, -2.67590448e+03, -2.67590448e+03, ...,\n",
      "         2.04796738e-42,  1.66335292e-35,  3.99143604e-18],\n",
      "       ...,\n",
      "       [ 2.67590448e+03,  2.67590448e+03,  2.67590448e+03, ...,\n",
      "         2.67590448e+03,  2.67590448e+03, -4.17939285e-09],\n",
      "       [ 9.66293094e-22,  1.21576192e-27,  3.49494799e-14, ...,\n",
      "         1.89258528e-35,  6.93492268e-27,  1.71656449e-17],\n",
      "       [-2.67590448e+03,  4.02433436e-15,  1.47958163e-08, ...,\n",
      "         2.93154851e-19,  6.77518069e-16,  3.39147738e-09]])\n"
     ]
    },
    {
     "name": "stderr",
     "output_type": "stream",
     "text": [
      "/tmp/ipykernel_62751/3371678565.py:5: RuntimeWarning: overflow encountered in exp\n",
      "  return np.exp(s) / sum(np.exp(s))\n",
      "/tmp/ipykernel_62751/3371678565.py:5: RuntimeWarning: invalid value encountered in true_divide\n",
      "  return np.exp(s) / sum(np.exp(s))\n"
     ]
    }
   ],
   "source": [
    "from configparser import Interpolation\n",
    "\n",
    "# creating a object\n",
    "# im = Image.open()\n",
    "  \n",
    "# im.show()\n",
    "m = 8\n",
    "mod = model(X_train, Y_train)\n",
    "Z1, A1, Z2, Y_hat = mod.forward_pass(mod.X)\n",
    "# # mod.gradient_descent(100)\n",
    "# print(f\"{Z1} {A1} {Z2} {Y_hat} {sum(Y_hat)}\")\n",
    "DW1, Db1, DW2, Db2 = mod.backwards_propagation(Y_hat, mod.Y,mod.X, Z2, A1, Z1,m)\n",
    "print(f\"{DW1=}, {Db1=}, {DW2=}, {Db2=}\")\n",
    "# mod.update_params(DW1, Db1, DW2, Db2, 0.01)\n",
    "# mod.gradient_descent(15)\n"
   ]
  },
  {
   "cell_type": "code",
   "execution_count": 104,
   "metadata": {},
   "outputs": [
    {
     "name": "stdout",
     "output_type": "stream",
     "text": [
      "(10, 784)\n"
     ]
    }
   ],
   "source": [
    "print(mod.W1.shape)"
   ]
  },
  {
   "cell_type": "code",
   "execution_count": null,
   "metadata": {},
   "outputs": [
    {
     "ename": "AttributeError",
     "evalue": "'model' object has no attribute 'make_predictions'",
     "output_type": "error",
     "traceback": [
      "\u001b[0;31m---------------------------------------------------------------------------\u001b[0m",
      "\u001b[0;31mAttributeError\u001b[0m                            Traceback (most recent call last)",
      "\u001b[1;32m/home/capeai/learning/ML_learning/nn_from_scratch/src/lukestest.ipynb Cell 9\u001b[0m in \u001b[0;36m<cell line: 1>\u001b[0;34m()\u001b[0m\n\u001b[0;32m----> <a href='vscode-notebook-cell:/home/capeai/learning/ML_learning/nn_from_scratch/src/lukestest.ipynb#X30sZmlsZQ%3D%3D?line=0'>1</a>\u001b[0m predictions \u001b[39m=\u001b[39m mod\u001b[39m.\u001b[39;49mmake_predictions(X_train[:,\u001b[39m12\u001b[39m, \u001b[39mNone\u001b[39;00m])\n",
      "\u001b[0;31mAttributeError\u001b[0m: 'model' object has no attribute 'make_predictions'"
     ]
    }
   ],
   "source": [
    "predictions = mod.make_prediction(X_train[:,12, None])\n"
   ]
  },
  {
   "cell_type": "code",
   "execution_count": null,
   "metadata": {},
   "outputs": [
    {
     "data": {
      "text/plain": [
       "(784, 1)"
      ]
     },
     "execution_count": 388,
     "metadata": {},
     "output_type": "execute_result"
    }
   ],
   "source": [
    "X_train[:,12, None].shape"
   ]
  },
  {
   "cell_type": "code",
   "execution_count": null,
   "metadata": {},
   "outputs": [
    {
     "data": {
      "text/plain": [
       "(59999,)"
      ]
     },
     "execution_count": 376,
     "metadata": {},
     "output_type": "execute_result"
    }
   ],
   "source": [
    "predictions.shape"
   ]
  },
  {
   "cell_type": "code",
   "execution_count": null,
   "metadata": {},
   "outputs": [
    {
     "data": {
      "image/png": "[encoded data removed]",
      "text/plain": [
       "<Figure size 432x288 with 1 Axes>"
      ]
     },
     "metadata": {
      "needs_background": "light"
     },
     "output_type": "display_data"
    },
    {
     "ename": "AttributeError",
     "evalue": "'model' object has no attribute 'make_prediction'",
     "output_type": "error",
     "traceback": [
      "\u001b[0;31m---------------------------------------------------------------------------\u001b[0m",
      "\u001b[0;31mAttributeError\u001b[0m                            Traceback (most recent call last)",
      "\u001b[1;32m/home/capeai/learning/ML_learning/nn_from_scratch/src/lukestest.ipynb Cell 12\u001b[0m in \u001b[0;36m<cell line: 1>\u001b[0;34m()\u001b[0m\n\u001b[0;32m----> <a href='vscode-notebook-cell:/home/capeai/learning/ML_learning/nn_from_scratch/src/lukestest.ipynb#X10sZmlsZQ%3D%3D?line=0'>1</a>\u001b[0m mod\u001b[39m.\u001b[39;49mtest_predict(\u001b[39m12\u001b[39;49m)\n",
      "\u001b[1;32m/home/capeai/learning/ML_learning/nn_from_scratch/src/lukestest.ipynb Cell 12\u001b[0m in \u001b[0;36mmodel.test_predict\u001b[0;34m(self, sample_index)\u001b[0m\n\u001b[1;32m     <a href='vscode-notebook-cell:/home/capeai/learning/ML_learning/nn_from_scratch/src/lukestest.ipynb#X10sZmlsZQ%3D%3D?line=46'>47</a>\u001b[0m sample \u001b[39m=\u001b[39m Y[sample_index]\n\u001b[1;32m     <a href='vscode-notebook-cell:/home/capeai/learning/ML_learning/nn_from_scratch/src/lukestest.ipynb#X10sZmlsZQ%3D%3D?line=47'>48</a>\u001b[0m X_sample \u001b[39m=\u001b[39m X[sample_index]\n\u001b[0;32m---> <a href='vscode-notebook-cell:/home/capeai/learning/ML_learning/nn_from_scratch/src/lukestest.ipynb#X10sZmlsZQ%3D%3D?line=48'>49</a>\u001b[0m prediction \u001b[39m=\u001b[39m \u001b[39mself\u001b[39;49m\u001b[39m.\u001b[39;49mmake_prediction(\u001b[39mself\u001b[39m\u001b[39m.\u001b[39mX[:,sample_index, \u001b[39mNone\u001b[39;00m])\n\u001b[1;32m     <a href='vscode-notebook-cell:/home/capeai/learning/ML_learning/nn_from_scratch/src/lukestest.ipynb#X10sZmlsZQ%3D%3D?line=49'>50</a>\u001b[0m \u001b[39mprint\u001b[39m(\u001b[39mf\u001b[39m\u001b[39m\"\u001b[39m\u001b[39m{\u001b[39;00msample\u001b[39m=}\u001b[39;00m\u001b[39m , prediction = \u001b[39m\u001b[39m{\u001b[39;00mprediction\u001b[39m}\u001b[39;00m\u001b[39m. Correct = \u001b[39m\u001b[39m{\u001b[39;00msample \u001b[39m==\u001b[39m prediction\u001b[39m}\u001b[39;00m\u001b[39m\"\u001b[39m)\n",
      "\u001b[0;31mAttributeError\u001b[0m: 'model' object has no attribute 'make_prediction'"
     ]
    }
   ],
   "source": [
    "mod.test_predict(12)\n"
   ]
  },
  {
   "cell_type": "code",
   "execution_count": null,
   "metadata": {},
   "outputs": [],
   "source": [
    "Z1, A1, Z2, Y_hat = forward_pass(X_train[:,12, None], mod.W1, mod.b1, mod.W2, mod.b2)\n"
   ]
  },
  {
   "cell_type": "code",
   "execution_count": null,
   "metadata": {},
   "outputs": [
    {
     "data": {
      "text/plain": [
       "(10, 59999)"
      ]
     },
     "execution_count": 355,
     "metadata": {},
     "output_type": "execute_result"
    }
   ],
   "source": [
    "Y_hat.shape"
   ]
  },
  {
   "cell_type": "code",
   "execution_count": null,
   "metadata": {},
   "outputs": [],
   "source": []
  }
 ],
 "metadata": {
  "kernelspec": {
   "display_name": "Python 3.8.10 64-bit",
   "language": "python",
   "name": "python3"
  },
  "language_info": {
   "codemirror_mode": {
    "name": "ipython",
    "version": 3
   },
   "file_extension": ".py",
   "mimetype": "text/x-python",
   "name": "python",
   "nbconvert_exporter": "python",
   "pygments_lexer": "ipython3",
   "version": "3.8.10"
  },
  "orig_nbformat": 4,
  "vscode": {
   "interpreter": {
    "hash": "916dbcbb3f70747c44a77c7bcd40155683ae19c65e1c03b4aa3499c5328201f1"
   }
  }
 },
 "nbformat": 4,
 "nbformat_minor": 2
}
