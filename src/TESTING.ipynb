{
 "cells": [
  {
   "cell_type": "code",
   "execution_count": 5,
   "metadata": {},
   "outputs": [],
   "source": [
    "\"\"\"import our data\"\"\"\n",
    "\n",
    "import numpy as np\n",
    "from data import get_data_from_csv, get_labels_and_data_1st_column\n",
    "\n",
    "# DATA FROM HERE: https://pjreddie.com/projects/mnist-in-csv/\n",
    "file_test = '../data/MNIST/mnist_test.csv'\n",
    "file_train = '../data/MNIST/mnist_train.csv'\n",
    "\n",
    "data_test, m_test, n_test = get_data_from_csv(file_test)\n",
    "Y_test, X_test = get_labels_and_data_1st_column(data_test)\n",
    "\n",
    "data_train, m_train, n_train = get_data_from_csv(file_train)\n",
    "Y_train, X_train = get_labels_and_data_1st_column(data_train)\n",
    "\n",
    "assert n_test == n_train\n",
    "n = n_test\n",
    "m = m_test + m_train\n",
    "\n"
   ]
  },
  {
   "cell_type": "code",
   "execution_count": 6,
   "metadata": {},
   "outputs": [],
   "source": [
    "\"\"\"making sure that our Y_test/Y_train are actually labels\"\"\"\n",
    "\n",
    "assert max(Y_test) == 9\n",
    "assert max(Y_train) == 9\n",
    "assert max(X_test[0]) != 9\n",
    "assert max(X_train[0]) != 9\n",
    "\n",
    "# display(Y_test[:100])\n",
    "# display(Y_train[:100])\n",
    "# display(X_test[500][:100])\n",
    "# display(X_train[500][:100])"
   ]
  },
  {
   "cell_type": "code",
   "execution_count": 7,
   "metadata": {},
   "outputs": [],
   "source": [
    "# normalize pixel data to values between 0 and 1. Max = 255, min = 0, thus divide by 255\n",
    "X_train = X_train / 255.\n",
    "X_test = X_test / 255."
   ]
  },
  {
   "cell_type": "code",
   "execution_count": null,
   "metadata": {},
   "outputs": [],
   "source": []
  },
  {
   "cell_type": "code",
   "execution_count": 51,
   "metadata": {},
   "outputs": [],
   "source": [
    "\"\"\"\n",
    "FORWARD PASS\n",
    "Give X\n",
    "A0 = X :: [784,1]\n",
    "A1[10,1] = W1[10,784] * X[784,1] + b1[10,1]\n",
    "Z1[10,1] = RelU(A1[10,1])\n",
    "A2[10,1] = W2[10,10] * Z1[10,1] + b2[10,1]\n",
    "Y_hat[10,1] = softmax(A2[10,1])\n",
    "Receive Y_hat\n",
    "\"\"\"\n",
    "\n",
    "\n",
    "def initialize_w_b():\n",
    "    W1 = np.random.randn(10, 784)\n",
    "    b1 = np.random.randn(10,)\n",
    "    W2 = np.random.randn(10,10)\n",
    "    b1 = np.random.randn(10,)\n",
    "    return W1, b1, W2, b1\n",
    "\n",
    "def ReLU(n: float) -> float:\n",
    "    \"\"\"rectified linear unit activation function\"\"\"\n",
    "    return np.maximum(n, 0)\n",
    "\n",
    "def ReLU_deriv(n: float) -> int:\n",
    "    \"\"\"\"derivative of ReLU\"\"\"\n",
    "    return n > 0\n",
    "\n",
    "def softmax(array: np.array) -> np.array:\n",
    "    return np.exp(array) / sum(np.exp(array))\n",
    "\n",
    "def forward_pass(X, W1, b1, W2, b2):\n",
    "    A0 = X\n",
    "    Z1 = W1.dot(A0) + b1\n",
    "    A1 = ReLU(Z1)\n",
    "    Z2 = W2.dot(A1) + b2\n",
    "    Y_hat = softmax(Z2)\n",
    "    return Y_hat\n",
    "\n",
    "def one_hot_encode(Y: np.array):\n",
    "    # first instantiate 0's which should be an array of len(Y) max(Y) \n",
    "    one_hot = np.zeros((Y.size,np.max(Y)+1))\n",
    "    one_hot[np.arange(Y.size), Y] = 1\n",
    "    return one_hot\n",
    "\n",
    "\n",
    "def backwards_propagation(Y_hat, Y, Z2, A1, Z1, W1, b1, W2, b2, m, X):\n",
    "    \"\"\"\n",
    "    Y_hat = [.1, .1, .7, .1]\n",
    "    Y = [0,0,1,0]\n",
    "    dZ2 = [.1, .1, -.3, .1]\n",
    "\n",
    "    L = Y - Y_hat\n",
    "    dL/dY_hat = -1 \n",
    "    dY_hat/dZ2 = 1\n",
    "    \n",
    "    dZ2 = dL/dZ2 = dL/dY_hat * dY_hat/dZ2 = (Y_hat - Y)     # * 1 / m\n",
    "    \n",
    "    dW2 = dL/dW2 = dL/dZ2 * dZ2/dW2 = dZ2 * 1 / m * A1\n",
    "    db2 = dL/db2 = dL/dZ2 * dZ2/db2 = dZ2 * 1 / m \n",
    "    \n",
    "    dA1 = dL/dA1 = dL/Z2 * dZ2/dA1 = dZ2 * W2\n",
    "    \n",
    "    dZ1 = dL/dZ1 = dL/dA1 * dA1/dZ1 = dA1 * ReLU_deriv(Z1)\n",
    "\n",
    "    dW1 = dL/dW1 = dL/dZ1 * dZ1/dW1 = dZ1 * 1 / m  * X\n",
    "    db1 = dL/db1 = dL/dZ1 * dZ1/db1 = dZ1 * 1 / m \n",
    "\n",
    "\n",
    "    CALCULATIONS\n",
    "    dZ2[10,] = Y_hat[10,] - Y[10,]\n",
    "    dW2[10,10] = 1/m * dZ2[10,1] * A1[10,1].T[1,10]\n",
    "    dA1[10,1] = W2.T[10,10].dot(dZ2[10,1]) # something weird here\n",
    "    dZ1[10,1] = dA1[10,1] * ReLU_deriv(Z1[10,1])[10,1]\n",
    "\n",
    "\n",
    "    \"\"\"\n",
    "    dZ2 = Y_hat - Y\n",
    "    \n",
    "    dW2 = 1/m * dZ2.dot(A1.T)\n",
    "    db2 = 1/m * np.sum(dZ2)/len(dZ2) # this is wrong\n",
    "\n",
    "    dA1 = W2.T.dot(dZ2)\n",
    "    dZ1 = dA1 * ReLU_deriv(Z1)\n",
    "\n",
    "    dW1 = 1/m * dZ1.dot(X.T)\n",
    "    db1 = 1/m * dZ1\n",
    "\n",
    "    return dW1, db1, dW2, db2\n",
    "\n",
    "\n",
    "\n",
    "\n",
    "def update_params(W1, b1, W2, b2, dW1, db1, dW2, db2, learning_rate):\n",
    "    W1 = W1 - learning_rate*dW1\n",
    "    b1 = b1 - learning_rate*db1\n",
    "    W2 = W2 - learning_rate*dW2\n",
    "    b2 = b2 - learning_rate*db2\n",
    "    \n",
    "    return W1, b1, W2, b1\n"
   ]
  },
  {
   "cell_type": "code",
   "execution_count": 52,
   "metadata": {},
   "outputs": [
    {
     "name": "stdout",
     "output_type": "stream",
     "text": [
      "[[1. 0. 0. 0. 0.]\n",
      " [0. 1. 0. 0. 0.]\n",
      " [0. 0. 0. 1. 0.]\n",
      " [0. 0. 0. 0. 1.]\n",
      " [0. 0. 0. 0. 1.]\n",
      " [0. 0. 1. 0. 0.]]\n"
     ]
    }
   ],
   "source": [
    "Y = np.array([0,1,3,4,4,2])\n",
    "one_hot = one_hot_encode(Y)\n",
    "print(one_hot)"
   ]
  },
  {
   "cell_type": "code",
   "execution_count": 13,
   "metadata": {},
   "outputs": [
    {
     "name": "stdout",
     "output_type": "stream",
     "text": [
      "A0.shape=(784,)\n",
      "A1.shape=(10,)\n",
      "Z1.shape=(10,)\n",
      "A2.shape=(10,)\n",
      "Y_hat.shape=(10,)\n"
     ]
    },
    {
     "data": {
      "text/plain": [
       "array([2.19026912e-07, 1.23076400e-06, 8.14249733e-13, 1.34590696e-04,\n",
       "       1.54466230e-17, 2.99065148e-10, 3.08124793e-06, 1.18054488e-09,\n",
       "       7.92935750e-16, 9.99860877e-01])"
      ]
     },
     "execution_count": 13,
     "metadata": {},
     "output_type": "execute_result"
    }
   ],
   "source": [
    "W1, b1, W2, b2 = initialize_w_b()\n",
    "\n",
    "X = X_test[:,0]\n",
    "\n",
    "forward_pass(X, W1, b1, W2, b2)\n"
   ]
  },
  {
   "cell_type": "markdown",
   "metadata": {},
   "source": []
  },
  {
   "cell_type": "code",
   "execution_count": null,
   "metadata": {},
   "outputs": [],
   "source": [
    "\"\"\"\n",
    "a = [0, .5, 2, 1]\n",
    "\n",
    "sums = e^0 + e^.5 + e^2 + e^1\n",
    "\n",
    "\n",
    "softmax(a) = [e^0/sums, e^.5/sums, e^2/sums, e^1/sums]\n",
    "\n",
    "\"\"\""
   ]
  },
  {
   "cell_type": "code",
   "execution_count": null,
   "metadata": {},
   "outputs": [],
   "source": []
  }
 ],
 "metadata": {
  "kernelspec": {
   "display_name": "Python 3.8.10 64-bit",
   "language": "python",
   "name": "python3"
  },
  "language_info": {
   "codemirror_mode": {
    "name": "ipython",
    "version": 3
   },
   "file_extension": ".py",
   "mimetype": "text/x-python",
   "name": "python",
   "nbconvert_exporter": "python",
   "pygments_lexer": "ipython3",
   "version": "3.8.10"
  },
  "orig_nbformat": 4,
  "vscode": {
   "interpreter": {
    "hash": "916dbcbb3f70747c44a77c7bcd40155683ae19c65e1c03b4aa3499c5328201f1"
   }
  }
 },
 "nbformat": 4,
 "nbformat_minor": 2
}
