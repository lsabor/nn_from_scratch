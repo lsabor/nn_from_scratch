{
 "cells": [
  {
   "cell_type": "code",
   "execution_count": 1,
   "metadata": {},
   "outputs": [],
   "source": [
    "\"\"\"import our data\"\"\"\n",
    "\n",
    "import numpy as np\n",
    "from data import get_data_from_csv, get_labels_and_data_1st_column\n",
    "import matplotlib.pyplot as plt\n",
    "import math\n",
    "\n",
    "# DATA FROM HERE: https://pjreddie.com/projects/mnist-in-csv/\n",
    "file_test = '../data/MNIST/mnist_test.csv'\n",
    "file_train = '../data/MNIST/mnist_train.csv'\n",
    "\n",
    "data_test, m_test, n_test = get_data_from_csv(file_test)\n",
    "Y_test, X_test = get_labels_and_data_1st_column(data_test)\n",
    "\n",
    "data_train, m_train, n_train = get_data_from_csv(file_train)\n",
    "Y_train, X_train = get_labels_and_data_1st_column(data_train)\n",
    "\n",
    "assert n_test == n_train\n",
    "n = n_test\n",
    "m = m_test + m_train\n",
    "\n"
   ]
  },
  {
   "cell_type": "code",
   "execution_count": 2,
   "metadata": {},
   "outputs": [],
   "source": [
    "\"\"\"making sure that our Y_test/Y_train are actually labels\"\"\"\n",
    "\n",
    "assert Y_test.max() == 9\n",
    "assert Y_train.max() == 9\n",
    "assert X_test[0].max() != 9\n",
    "assert X_train[0].max() != 9\n"
   ]
  },
  {
   "cell_type": "code",
   "execution_count": 3,
   "metadata": {},
   "outputs": [],
   "source": [
    "# normalize pixel data to values between 0 and 1. Max = 255, min = 0, thus divide by 255\n",
    "X_train = X_train / 255.\n",
    "X_test = X_test / 255."
   ]
  },
  {
   "cell_type": "code",
   "execution_count": 47,
   "metadata": {},
   "outputs": [],
   "source": [
    "\n",
    "\n",
    "def loss(Y, Y_hat):\n",
    "    return 1/2 * np.sum((Y - Y_hat)**2)\n",
    "\n",
    "def softmax(s):\n",
    "    return np.exp(s) / sum(np.exp(s))"
   ]
  },
  {
   "cell_type": "code",
   "execution_count": 18,
   "metadata": {},
   "outputs": [],
   "source": [
    "class model():\n",
    "    def __init__(self, X_dataset,Y_dataset, learning_rate = 0.1):\n",
    "        self.X = X_dataset\n",
    "        self.Y = Y_dataset\n",
    "        self.W1 = np.random.rand(10, 784) -.5\n",
    "        self.b1 = np.random.rand(10,1) -.5\n",
    "        self.W2 = np.random.rand(10,10) -.5\n",
    "        self.b2 = np.random.rand(10,1) -.5\n",
    "        self.learning_rate = learning_rate\n",
    "    \n",
    "    def update(self,X_dataset, Y_dataset):\n",
    "        self.X = X_dataset\n",
    "        self.Y = Y_dataset\n",
    "\n",
    "    def get_predictions(self,Y_hat):\n",
    "        predictions = np.argmax(Y_hat,0)\n",
    "        return predictions\n",
    "\n",
    "    \n",
    "    def accuracy(self, Y_hat, Y):\n",
    "        \n",
    "        predictions = self.get_predictions(Y_hat)\n",
    "        return np.sum(predictions == Y) / Y.size\n",
    "    \n",
    "    def gradient_descent(self, iterations, learning_rate=0.5):\n",
    "\n",
    "        m = self.X.shape[1]\n",
    "        one_hot_Y = self.one_hot_encode(self.Y)\n",
    "        for iteration in range(iterations):\n",
    "\n",
    "            Z1, A1, Z2, Y_hat = self.forward_pass(X=self.X)\n",
    "\n",
    "            DW1, Db1, DW2, Db2 = self.backwards_propagation(Y_hat,one_hot_Y, self.X,Z2, A1, Z1, m)\n",
    "            self.update_params( DW1, Db1, DW2, Db2, self.learning_rate)\n",
    "\n",
    "            accuracy = self.accuracy(Y_hat, self.Y)\n",
    "            if iteration% 20 == 0:\n",
    "                loss = self.cross_entropy_loss(one_hot_Y, Y_hat)\n",
    "                print(f\"Iteration={iteration} \\n    {accuracy=}\\n    {loss=}\")\n",
    "\n",
    "    \n",
    "    def ReLU(self, n: float) -> float:\n",
    "        \"\"\"rectified linear unit activation function\"\"\"\n",
    "        return np.maximum(n, 0)\n",
    "\n",
    "    def ReLU_deriv(self, n: float) -> int:\n",
    "        \"\"\"\"derivative of ReLU\"\"\"\n",
    "        return n > 0\n",
    "\n",
    "    def softmax(self, array: np.array) -> np.array:\n",
    "        # collapses 1 dimension of array\n",
    "        # np.exp(s) / sum(np.exp(s))\n",
    "        return np.exp(array) / np.sum(np.exp(array), axis=0)\n",
    "\n",
    "    def forward_pass(self, X):\n",
    "        Z1 = np.dot(self.W1, X) + self.b1\n",
    "        A1 = self.ReLU(Z1)\n",
    "        Z2 = self.W2.dot(A1) + self.b2\n",
    "        Y_hat = self.softmax(Z2) \n",
    "        return Z1, A1, Z2, Y_hat\n",
    "\n",
    "    def one_hot_encode(self, Y: np.array, classes = 10):\n",
    "        # first instantiate 0's which should be an array of len(Y) max(Y) \n",
    "        one_hot = np.zeros((Y.size,classes))\n",
    "        one_hot[np.arange(Y.size), Y] = 1\n",
    "        return one_hot.T\n",
    "\n",
    "    def cross_entropy_loss(self, y_actual, y_predictions):\n",
    "        num_samples=len(y_actual)\n",
    "        class_targets =np.array(y_actual)\n",
    "        y_actual = y_actual\n",
    "        y_pred_clipped = np.clip(y_predictions, 1e-7, 1-1e-7)\n",
    "        if len(y_actual.shape) ==1:\n",
    "            targeted_predictions = y_pred_clipped[[range(num_samples), class_targets]]\n",
    "        elif len(y_actual.shape) == 2:\n",
    "            targeted_predictions = np.sum(y_pred_clipped.T * y_actual.T, axis=1)\n",
    "        negative_log_likelihoods = -np.log(targeted_predictions)\n",
    "        return np.mean(negative_log_likelihoods)\n",
    "    \n",
    "\n",
    "    def backwards_propagation(self, Y_hat, Y, X, Z2, A1, Z1, m):\n",
    "        \"\"\"\n",
    "\n",
    "\n",
    "        \n",
    "        n = number of possible encodings # in general, n can change through a network,\n",
    "            but we're assuming that n is used for encodings and also layer size\n",
    "        m = number of inputs, batch size\n",
    "\n",
    "        x = number of datapoints per input\n",
    "        X[x,m] = Input - m examples of x data points\n",
    "        Y[n,m] = one-hot encoding of results: e.g. [[0,0,0,1,0,0], ... ] (with m encodings)\n",
    "        W1[n,x] = weights applied to X\n",
    "        b1[n,1] = biases applied to values going into Z1_n\n",
    "        Z1[n,m] = pre-activation function values = W1[n,x] dot X[x,m] + b1[n,1]\n",
    "        A1[n,m] = ReLU(Z1[n,m])\n",
    "        W2[n,n] = weights applied to A1\n",
    "        b2[n,1] = biases applied to values going into Z2_n\n",
    "        Z2[n,m] = pre-softmax function values = W2[n,n] dot A1[n,m] + b2[n,1]\n",
    "        Y_hat[n,m] = the estimate of Y = softmax(Z2[n,m])\n",
    "        \n",
    "        definition: Loss = L[m] = [L_0, L_1, ..., L_m] # possiblly L[1,m]\n",
    "            = 1/2*np.sum((Y - Y_hat)**2)\n",
    "            in other words for each row m:\n",
    "                L_m = 1/2*sum[j from 0 to n] of (Y[j,m] - Y_hat[j,m])**2 \n",
    "                = sum[j from 0 to n] of 1/2*Y[j,m]**2 - Y[j,m]*Y_hat[j,m] + 1/2*Y_hat[j,m]**2\n",
    "    (1)     L = np.sum(1/2*Y**2 - Y*Y_hat + 1/2*Y_hat**2)\n",
    "        We set this loss specifically so that the derivative works out nicely\n",
    "\n",
    "        To minimize L, we want to see how L will change with respect to the variable\n",
    "        that we can control, namely Y_hat.\n",
    "        We can calculate how changing one of the values in Y_hat effects Y.\n",
    "        DY_hat[j,m] = dL/dY_hat[j,m] = -Y[j,m] + Y_hat[j,m] \n",
    "        This generalizes because dL/dY_hat should be an array of shape Y.shape, with each\n",
    "        value j corresponding to how much Y_hat[j] effects L given some specific input (m).\n",
    "        NOTE: dL/dY_hat will show how to change Y_hat to *increase* L by 1 unit \n",
    "        (this will be true for all derivatives we calculate).\n",
    "        dL/dY_hat = -Y + Y_hat (calculated derivative from (1))\n",
    "        call this DY_hat for simplicity\n",
    "\n",
    "        REMINDER: Y_hat[n,m] = softmax(Z2[n,m])\n",
    "        NOTE: dSoftmax(X)/dX = softmax(X) dot (1-softmax(X)), but we will use 1 instead FOR SOME REASON???\n",
    "        dY_hat/dZ2 = 1                    ####### not: softmax(Z2)*(1-softmax(Z2))\n",
    "        thus, by chain rule:\n",
    "        DZ2[n,m] = dL/dZ2 = dL/dY_hat * dY_hat/dZ2 = DY_hat * 1\n",
    "\n",
    "        REMINDER: Z2[n,m] = W2[n,n] dot A1[n,m] + b2[n,1]\n",
    "        dZ2/dW2[m,n] = A1[n,m].T[m,n] / m\n",
    "        dZ2/db2[m,1] = np.sum(Z2[n,m])[m] / m\n",
    "        Now, were ready to calculate DW2, Db2\n",
    "        DW2[n,n] = dL/dW2 = dL/dZ2 * dZ2/dW2 = DZ2[n,m] dot A1.T[m,n] / m\n",
    "        Db2[n,1] = dL/db2 = dL/dZ2 * dZ2/db2 = DZ2[n,m] dot np.sum(Z2[n,m])[m,1] / m \n",
    "\n",
    "        \n",
    "        dZ2/dA1 = W2[n,n]\n",
    "        DA1[n,n] = dL/dA1 = dL/dZ2 * dZ2/dA1 = DZ2[n,m] * W2[n,n]\n",
    "        DZ1[x,x] = dL/dA1 * dA1/dZ1 = DA1[n,n] * ReLU_deriv(Z1)\n",
    "\n",
    "        REMINDER: Z1[n,m] = W1[n,x] dot X[x,m] + b1[n,1]\n",
    "        dZ1/dW1[m,n] = X[n,m].T[m,n] / m\n",
    "        dZ1/db1[m,1] = np.sum(Z1[n,m])[m] / m\n",
    "        Now, were ready to calculate DW1, Db1\n",
    "        DW1[x,n] = dL/dW1 = dL/dZ1 * dZ1/dW1 = DZ1[x,x] dot X.T[x,n] / m\n",
    "        Db1[n,1] = dL/db1 = dL/dZ2 * dZ1/db1 = DZ2[n,m] dot np.sum(Z2[n,m])[m,1] / m \n",
    "        \n",
    "        \"\"\"\n",
    "\n",
    "        DZ2 =  -Y +Y_hat \n",
    "        DW2 = np.dot(DZ2,A1.T) / m\n",
    "        \n",
    "        Db2 = np.sum(DZ2) / m\n",
    "\n",
    "        DZ1 = np.dot(self.W2.T, DZ2) * self.ReLU_deriv(Z1)\n",
    "\n",
    "        DW1 = np.dot(DZ1, self.X.T) / m\n",
    "        Db1 =  np.sum(DZ1) / m\n",
    "        return DW1, Db1, DW2, Db2\n",
    "\n",
    "\n",
    "    def update_params(self, dW1, db1, dW2, db2, learning_rate):\n",
    "        self.W1 = self.W1 - learning_rate*dW1\n",
    "        self.b1 = self.b1 - learning_rate*db1\n",
    "        self.W2 = self.W2 - learning_rate*dW2\n",
    "        self.b2 = self.b2 - learning_rate*db2\n",
    "\n",
    "\n",
    "    def make_prediction(self,X):\n",
    "        print(X.shape)\n",
    "        _,_,_, Y_hat = self.forward_pass(X)\n",
    "        predictions = self.get_predictions(Y_hat)\n",
    "        return predictions\n",
    "\n",
    "    def test_predict(self,sample_index):\n",
    "        current_image = self.X[:, sample_index, None]\n",
    "        sample = self.Y[sample_index]\n",
    "        current_image = current_image.reshape((28,28))*255\n",
    "\n",
    "        plt.gray()\n",
    "        plt.imshow(current_image, interpolation=\"nearest\")\n",
    "        plt.show()\n",
    "        sample = self.Y[sample_index]\n",
    "        X_sample = self.X[sample_index]\n",
    "        prediction = self.make_prediction(self.X[:,sample_index, None])\n",
    "        print(f\"{sample=} , prediction = {prediction}. Correct = {sample == prediction[0]}\")\n",
    "\n",
    "    def export_weights(self):\n",
    "        return self.W1, self.b1, self.W2, self.b2\n",
    "    \n",
    "    def import_weights(self, W1, b1, W2, b2):\n",
    "        self.W1 = W1\n",
    "        self.b1 = b1\n",
    "        self.W2 = W2\n",
    "        self.b2 = b2\n",
    "\n",
    "\n",
    "            \n"
   ]
  },
  {
   "cell_type": "code",
   "execution_count": null,
   "metadata": {},
   "outputs": [],
   "source": [
    "mod = model(X_train, Y_train, learning_rate=0.05)\n"
   ]
  },
  {
   "cell_type": "code",
   "execution_count": 22,
   "metadata": {},
   "outputs": [
    {
     "name": "stdout",
     "output_type": "stream",
     "text": [
      "Iteration=0 \n",
      "    accuracy=0.6940615676927949\n",
      "    loss=0.9187216567685481\n",
      "Iteration=20 \n",
      "    accuracy=0.7069451157519292\n",
      "    loss=0.8873495152471377\n",
      "Iteration=40 \n",
      "    accuracy=0.7176452940882349\n",
      "    loss=0.8588208750456914\n",
      "Iteration=60 \n",
      "    accuracy=0.7276287938132302\n",
      "    loss=0.832811768311251\n",
      "Iteration=80 \n",
      "    accuracy=0.7368622810380173\n",
      "    loss=0.8090015843552026\n",
      "Iteration=100 \n",
      "    accuracy=0.7447457457624294\n",
      "    loss=0.7871326331592372\n",
      "Iteration=120 \n",
      "    accuracy=0.7516125268754479\n",
      "    loss=0.767022975745752\n",
      "Iteration=140 \n",
      "    accuracy=0.7587126452107535\n",
      "    loss=0.7484723337249892\n",
      "Iteration=160 \n",
      "    accuracy=0.7660794346572443\n",
      "    loss=0.7313080807233577\n",
      "Iteration=180 \n",
      "    accuracy=0.7713128552142535\n",
      "    loss=0.7154003766542791\n"
     ]
    }
   ],
   "source": [
    "\n",
    "mod.gradient_descent(200)\n",
    "saved_W1, saved_b1 , saved_W2 ,saved_b2  = mod.export_weights()\n",
    "\n"
   ]
  },
  {
   "cell_type": "code",
   "execution_count": null,
   "metadata": {},
   "outputs": [
    {
     "data": {
      "image/png": "[encoded data removed]",
      "text/plain": [
       "<Figure size 432x288 with 1 Axes>"
      ]
     },
     "metadata": {
      "needs_background": "light"
     },
     "output_type": "display_data"
    },
    {
     "name": "stdout",
     "output_type": "stream",
     "text": [
      "(784, 1)\n",
      "sample=3 , prediction = [3]. Correct = True\n"
     ]
    },
    {
     "data": {
      "image/png": "[encoded data removed]",
      "text/plain": [
       "<Figure size 432x288 with 1 Axes>"
      ]
     },
     "metadata": {
      "needs_background": "light"
     },
     "output_type": "display_data"
    },
    {
     "name": "stdout",
     "output_type": "stream",
     "text": [
      "(784, 1)\n",
      "sample=2 , prediction = [0]. Correct = False\n"
     ]
    },
    {
     "data": {
      "image/png": "[encoded data removed]",
      "text/plain": [
       "<Figure size 432x288 with 1 Axes>"
      ]
     },
     "metadata": {
      "needs_background": "light"
     },
     "output_type": "display_data"
    },
    {
     "name": "stdout",
     "output_type": "stream",
     "text": [
      "(784, 1)\n",
      "sample=9 , prediction = [4]. Correct = False\n"
     ]
    },
    {
     "data": {
      "image/png": "[encoded data removed]",
      "text/plain": [
       "<Figure size 432x288 with 1 Axes>"
      ]
     },
     "metadata": {
      "needs_background": "light"
     },
     "output_type": "display_data"
    },
    {
     "name": "stdout",
     "output_type": "stream",
     "text": [
      "(784, 1)\n",
      "sample=9 , prediction = [9]. Correct = True\n"
     ]
    },
    {
     "data": {
      "image/png": "[encoded data removed]",
      "text/plain": [
       "<Figure size 432x288 with 1 Axes>"
      ]
     },
     "metadata": {
      "needs_background": "light"
     },
     "output_type": "display_data"
    },
    {
     "name": "stdout",
     "output_type": "stream",
     "text": [
      "(784, 1)\n",
      "sample=0 , prediction = [6]. Correct = False\n"
     ]
    },
    {
     "data": {
      "image/png": "[encoded data removed]",
      "text/plain": [
       "<Figure size 432x288 with 1 Axes>"
      ]
     },
     "metadata": {
      "needs_background": "light"
     },
     "output_type": "display_data"
    },
    {
     "name": "stdout",
     "output_type": "stream",
     "text": [
      "(784, 1)\n",
      "sample=7 , prediction = [7]. Correct = True\n"
     ]
    },
    {
     "data": {
      "image/png": "[encoded data removed]",
      "text/plain": [
       "<Figure size 432x288 with 1 Axes>"
      ]
     },
     "metadata": {
      "needs_background": "light"
     },
     "output_type": "display_data"
    },
    {
     "name": "stdout",
     "output_type": "stream",
     "text": [
      "(784, 1)\n",
      "sample=5 , prediction = [5]. Correct = True\n"
     ]
    },
    {
     "data": {
      "image/png": "[encoded data removed]",
      "text/plain": [
       "<Figure size 432x288 with 1 Axes>"
      ]
     },
     "metadata": {
      "needs_background": "light"
     },
     "output_type": "display_data"
    },
    {
     "name": "stdout",
     "output_type": "stream",
     "text": [
      "(784, 1)\n",
      "sample=1 , prediction = [3]. Correct = False\n"
     ]
    },
    {
     "data": {
      "image/png": "[encoded data removed]",
      "text/plain": [
       "<Figure size 432x288 with 1 Axes>"
      ]
     },
     "metadata": {
      "needs_background": "light"
     },
     "output_type": "display_data"
    },
    {
     "name": "stdout",
     "output_type": "stream",
     "text": [
      "(784, 1)\n",
      "sample=6 , prediction = [1]. Correct = False\n"
     ]
    },
    {
     "data": {
      "image/png": "[encoded data removed]",
      "text/plain": [
       "<Figure size 432x288 with 1 Axes>"
      ]
     },
     "metadata": {
      "needs_background": "light"
     },
     "output_type": "display_data"
    },
    {
     "name": "stdout",
     "output_type": "stream",
     "text": [
      "(784, 1)\n",
      "sample=4 , prediction = [7]. Correct = False\n"
     ]
    },
    {
     "data": {
      "image/png": "[encoded data removed]",
      "text/plain": [
       "<Figure size 432x288 with 1 Axes>"
      ]
     },
     "metadata": {
      "needs_background": "light"
     },
     "output_type": "display_data"
    },
    {
     "name": "stdout",
     "output_type": "stream",
     "text": [
      "(784, 1)\n",
      "sample=6 , prediction = [6]. Correct = True\n"
     ]
    },
    {
     "data": {
      "image/png": "[encoded data removed]",
      "text/plain": [
       "<Figure size 432x288 with 1 Axes>"
      ]
     },
     "metadata": {
      "needs_background": "light"
     },
     "output_type": "display_data"
    },
    {
     "name": "stdout",
     "output_type": "stream",
     "text": [
      "(784, 1)\n",
      "sample=1 , prediction = [1]. Correct = True\n"
     ]
    },
    {
     "data": {
      "image/png": "[encoded data removed]",
      "text/plain": [
       "<Figure size 432x288 with 1 Axes>"
      ]
     },
     "metadata": {
      "needs_background": "light"
     },
     "output_type": "display_data"
    },
    {
     "name": "stdout",
     "output_type": "stream",
     "text": [
      "(784, 1)\n",
      "sample=6 , prediction = [3]. Correct = False\n"
     ]
    },
    {
     "data": {
      "image/png": "[encoded data removed]",
      "text/plain": [
       "<Figure size 432x288 with 1 Axes>"
      ]
     },
     "metadata": {
      "needs_background": "light"
     },
     "output_type": "display_data"
    },
    {
     "name": "stdout",
     "output_type": "stream",
     "text": [
      "(784, 1)\n",
      "sample=7 , prediction = [7]. Correct = True\n"
     ]
    },
    {
     "data": {
      "image/png": "[encoded data removed]",
      "text/plain": [
       "<Figure size 432x288 with 1 Axes>"
      ]
     },
     "metadata": {
      "needs_background": "light"
     },
     "output_type": "display_data"
    },
    {
     "name": "stdout",
     "output_type": "stream",
     "text": [
      "(784, 1)\n",
      "sample=1 , prediction = [1]. Correct = True\n"
     ]
    },
    {
     "data": {
      "image/png": "[encoded data removed]",
      "text/plain": [
       "<Figure size 432x288 with 1 Axes>"
      ]
     },
     "metadata": {
      "needs_background": "light"
     },
     "output_type": "display_data"
    },
    {
     "name": "stdout",
     "output_type": "stream",
     "text": [
      "(784, 1)\n",
      "sample=4 , prediction = [4]. Correct = True\n"
     ]
    },
    {
     "data": {
      "image/png": "[encoded data removed]",
      "text/plain": [
       "<Figure size 432x288 with 1 Axes>"
      ]
     },
     "metadata": {
      "needs_background": "light"
     },
     "output_type": "display_data"
    },
    {
     "name": "stdout",
     "output_type": "stream",
     "text": [
      "(784, 1)\n",
      "sample=7 , prediction = [7]. Correct = True\n"
     ]
    },
    {
     "data": {
      "image/png": "[encoded data removed]",
      "text/plain": [
       "<Figure size 432x288 with 1 Axes>"
      ]
     },
     "metadata": {
      "needs_background": "light"
     },
     "output_type": "display_data"
    },
    {
     "name": "stdout",
     "output_type": "stream",
     "text": [
      "(784, 1)\n",
      "sample=5 , prediction = [8]. Correct = False\n"
     ]
    },
    {
     "data": {
      "image/png": "[encoded data removed]",
      "text/plain": [
       "<Figure size 432x288 with 1 Axes>"
      ]
     },
     "metadata": {
      "needs_background": "light"
     },
     "output_type": "display_data"
    },
    {
     "name": "stdout",
     "output_type": "stream",
     "text": [
      "(784, 1)\n",
      "sample=7 , prediction = [7]. Correct = True\n"
     ]
    },
    {
     "data": {
      "image/png": "[encoded data removed]",
      "text/plain": [
       "<Figure size 432x288 with 1 Axes>"
      ]
     },
     "metadata": {
      "needs_background": "light"
     },
     "output_type": "display_data"
    },
    {
     "name": "stdout",
     "output_type": "stream",
     "text": [
      "(784, 1)\n",
      "sample=6 , prediction = [6]. Correct = True\n"
     ]
    }
   ],
   "source": [
    "for i in range(5):\n",
    "    mod.test_predict(i)\n"
   ]
  },
  {
   "cell_type": "code",
   "execution_count": null,
   "metadata": {},
   "outputs": [],
   "source": []
  }
 ],
 "metadata": {
  "kernelspec": {
   "display_name": "Python 3 (ipykernel)",
   "language": "python",
   "name": "python3"
  },
  "language_info": {
   "codemirror_mode": {
    "name": "ipython",
    "version": 3
   },
   "file_extension": ".py",
   "mimetype": "text/x-python",
   "name": "python",
   "nbconvert_exporter": "python",
   "pygments_lexer": "ipython3",
   "version": "3.8.10"
  },
  "vscode": {
   "interpreter": {
    "hash": "916dbcbb3f70747c44a77c7bcd40155683ae19c65e1c03b4aa3499c5328201f1"
   }
  }
 },
 "nbformat": 4,
 "nbformat_minor": 2
}
